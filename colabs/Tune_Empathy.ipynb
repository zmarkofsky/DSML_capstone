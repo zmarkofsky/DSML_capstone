{
  "nbformat": 4,
  "nbformat_minor": 0,
  "metadata": {
    "colab": {
      "provenance": [],
      "authorship_tag": "ABX9TyPHC4tFJtURdFy/sNqN0XWq",
      "include_colab_link": true
    },
    "kernelspec": {
      "name": "python3",
      "display_name": "Python 3"
    },
    "language_info": {
      "name": "python"
    },
    "widgets": {
      "application/vnd.jupyter.widget-state+json": {
        "61748372a0f043ee872e707419f6fca5": {
          "model_module": "@jupyter-widgets/controls",
          "model_name": "VBoxModel",
          "model_module_version": "1.5.0",
          "state": {
            "_dom_classes": [],
            "_model_module": "@jupyter-widgets/controls",
            "_model_module_version": "1.5.0",
            "_model_name": "VBoxModel",
            "_view_count": null,
            "_view_module": "@jupyter-widgets/controls",
            "_view_module_version": "1.5.0",
            "_view_name": "VBoxView",
            "box_style": "",
            "children": [
              "IPY_MODEL_be14c9d2f5724bc3ab58fb5116ca88d0",
              "IPY_MODEL_b457e05021524d458705f412828be232"
            ],
            "layout": "IPY_MODEL_62f99fb1dc0e402c89b68f0e2e1fc167"
          }
        },
        "be14c9d2f5724bc3ab58fb5116ca88d0": {
          "model_module": "@jupyter-widgets/controls",
          "model_name": "LabelModel",
          "model_module_version": "1.5.0",
          "state": {
            "_dom_classes": [],
            "_model_module": "@jupyter-widgets/controls",
            "_model_module_version": "1.5.0",
            "_model_name": "LabelModel",
            "_view_count": null,
            "_view_module": "@jupyter-widgets/controls",
            "_view_module_version": "1.5.0",
            "_view_name": "LabelView",
            "description": "",
            "description_tooltip": null,
            "layout": "IPY_MODEL_2e9ff1da8512434aa80c2147d8382d1f",
            "placeholder": "​",
            "style": "IPY_MODEL_4306beb4b5d7425db2ec86ee267d1580",
            "value": "0.013 MB of 0.013 MB uploaded\r"
          }
        },
        "b457e05021524d458705f412828be232": {
          "model_module": "@jupyter-widgets/controls",
          "model_name": "FloatProgressModel",
          "model_module_version": "1.5.0",
          "state": {
            "_dom_classes": [],
            "_model_module": "@jupyter-widgets/controls",
            "_model_module_version": "1.5.0",
            "_model_name": "FloatProgressModel",
            "_view_count": null,
            "_view_module": "@jupyter-widgets/controls",
            "_view_module_version": "1.5.0",
            "_view_name": "ProgressView",
            "bar_style": "",
            "description": "",
            "description_tooltip": null,
            "layout": "IPY_MODEL_6c328b9185ce407eaa68ffe02e81a3b3",
            "max": 1,
            "min": 0,
            "orientation": "horizontal",
            "style": "IPY_MODEL_948a323b94d3436681fe3e51cf97a5b0",
            "value": 1
          }
        },
        "62f99fb1dc0e402c89b68f0e2e1fc167": {
          "model_module": "@jupyter-widgets/base",
          "model_name": "LayoutModel",
          "model_module_version": "1.2.0",
          "state": {
            "_model_module": "@jupyter-widgets/base",
            "_model_module_version": "1.2.0",
            "_model_name": "LayoutModel",
            "_view_count": null,
            "_view_module": "@jupyter-widgets/base",
            "_view_module_version": "1.2.0",
            "_view_name": "LayoutView",
            "align_content": null,
            "align_items": null,
            "align_self": null,
            "border": null,
            "bottom": null,
            "display": null,
            "flex": null,
            "flex_flow": null,
            "grid_area": null,
            "grid_auto_columns": null,
            "grid_auto_flow": null,
            "grid_auto_rows": null,
            "grid_column": null,
            "grid_gap": null,
            "grid_row": null,
            "grid_template_areas": null,
            "grid_template_columns": null,
            "grid_template_rows": null,
            "height": null,
            "justify_content": null,
            "justify_items": null,
            "left": null,
            "margin": null,
            "max_height": null,
            "max_width": null,
            "min_height": null,
            "min_width": null,
            "object_fit": null,
            "object_position": null,
            "order": null,
            "overflow": null,
            "overflow_x": null,
            "overflow_y": null,
            "padding": null,
            "right": null,
            "top": null,
            "visibility": null,
            "width": null
          }
        },
        "2e9ff1da8512434aa80c2147d8382d1f": {
          "model_module": "@jupyter-widgets/base",
          "model_name": "LayoutModel",
          "model_module_version": "1.2.0",
          "state": {
            "_model_module": "@jupyter-widgets/base",
            "_model_module_version": "1.2.0",
            "_model_name": "LayoutModel",
            "_view_count": null,
            "_view_module": "@jupyter-widgets/base",
            "_view_module_version": "1.2.0",
            "_view_name": "LayoutView",
            "align_content": null,
            "align_items": null,
            "align_self": null,
            "border": null,
            "bottom": null,
            "display": null,
            "flex": null,
            "flex_flow": null,
            "grid_area": null,
            "grid_auto_columns": null,
            "grid_auto_flow": null,
            "grid_auto_rows": null,
            "grid_column": null,
            "grid_gap": null,
            "grid_row": null,
            "grid_template_areas": null,
            "grid_template_columns": null,
            "grid_template_rows": null,
            "height": null,
            "justify_content": null,
            "justify_items": null,
            "left": null,
            "margin": null,
            "max_height": null,
            "max_width": null,
            "min_height": null,
            "min_width": null,
            "object_fit": null,
            "object_position": null,
            "order": null,
            "overflow": null,
            "overflow_x": null,
            "overflow_y": null,
            "padding": null,
            "right": null,
            "top": null,
            "visibility": null,
            "width": null
          }
        },
        "4306beb4b5d7425db2ec86ee267d1580": {
          "model_module": "@jupyter-widgets/controls",
          "model_name": "DescriptionStyleModel",
          "model_module_version": "1.5.0",
          "state": {
            "_model_module": "@jupyter-widgets/controls",
            "_model_module_version": "1.5.0",
            "_model_name": "DescriptionStyleModel",
            "_view_count": null,
            "_view_module": "@jupyter-widgets/base",
            "_view_module_version": "1.2.0",
            "_view_name": "StyleView",
            "description_width": ""
          }
        },
        "6c328b9185ce407eaa68ffe02e81a3b3": {
          "model_module": "@jupyter-widgets/base",
          "model_name": "LayoutModel",
          "model_module_version": "1.2.0",
          "state": {
            "_model_module": "@jupyter-widgets/base",
            "_model_module_version": "1.2.0",
            "_model_name": "LayoutModel",
            "_view_count": null,
            "_view_module": "@jupyter-widgets/base",
            "_view_module_version": "1.2.0",
            "_view_name": "LayoutView",
            "align_content": null,
            "align_items": null,
            "align_self": null,
            "border": null,
            "bottom": null,
            "display": null,
            "flex": null,
            "flex_flow": null,
            "grid_area": null,
            "grid_auto_columns": null,
            "grid_auto_flow": null,
            "grid_auto_rows": null,
            "grid_column": null,
            "grid_gap": null,
            "grid_row": null,
            "grid_template_areas": null,
            "grid_template_columns": null,
            "grid_template_rows": null,
            "height": null,
            "justify_content": null,
            "justify_items": null,
            "left": null,
            "margin": null,
            "max_height": null,
            "max_width": null,
            "min_height": null,
            "min_width": null,
            "object_fit": null,
            "object_position": null,
            "order": null,
            "overflow": null,
            "overflow_x": null,
            "overflow_y": null,
            "padding": null,
            "right": null,
            "top": null,
            "visibility": null,
            "width": null
          }
        },
        "948a323b94d3436681fe3e51cf97a5b0": {
          "model_module": "@jupyter-widgets/controls",
          "model_name": "ProgressStyleModel",
          "model_module_version": "1.5.0",
          "state": {
            "_model_module": "@jupyter-widgets/controls",
            "_model_module_version": "1.5.0",
            "_model_name": "ProgressStyleModel",
            "_view_count": null,
            "_view_module": "@jupyter-widgets/base",
            "_view_module_version": "1.2.0",
            "_view_name": "StyleView",
            "bar_color": null,
            "description_width": ""
          }
        }
      }
    }
  },
  "cells": [
    {
      "cell_type": "markdown",
      "metadata": {
        "id": "view-in-github",
        "colab_type": "text"
      },
      "source": [
        "<a href=\"https://colab.research.google.com/github/zmarkofsky/DSML_capstone/blob/main/colabs/Tune_Empathy.ipynb\" target=\"_parent\"><img src=\"https://colab.research.google.com/assets/colab-badge.svg\" alt=\"Open In Colab\"/></a>"
      ]
    },
    {
      "cell_type": "markdown",
      "source": [
        "# Empathy Classification Model Fine Tuning\n",
        "\n",
        "The goal of this notebook is to fine tune the OpenAI GPT 3.5 model to be able to correctly identify wheater a set of text is considered empathetic or not."
      ],
      "metadata": {
        "id": "vGCbakCrEPvQ"
      }
    },
    {
      "cell_type": "markdown",
      "source": [
        "## Inputs and Setup"
      ],
      "metadata": {
        "id": "RtkAbc8uF3i6"
      }
    },
    {
      "cell_type": "code",
      "execution_count": 1,
      "metadata": {
        "id": "-8RyST3xBCRi",
        "outputId": "12fcf40b-3b6b-4293-bec6-a287b2e6f26b",
        "colab": {
          "base_uri": "https://localhost:8080/"
        }
      },
      "outputs": [
        {
          "output_type": "stream",
          "name": "stdout",
          "text": [
            "Requirement already satisfied: openai in /usr/local/lib/python3.10/dist-packages (1.16.1)\n",
            "Requirement already satisfied: tiktoken in /usr/local/lib/python3.10/dist-packages (0.6.0)\n",
            "Requirement already satisfied: anyio<5,>=3.5.0 in /usr/local/lib/python3.10/dist-packages (from openai) (3.7.1)\n",
            "Requirement already satisfied: distro<2,>=1.7.0 in /usr/lib/python3/dist-packages (from openai) (1.7.0)\n",
            "Requirement already satisfied: httpx<1,>=0.23.0 in /usr/local/lib/python3.10/dist-packages (from openai) (0.27.0)\n",
            "Requirement already satisfied: pydantic<3,>=1.9.0 in /usr/local/lib/python3.10/dist-packages (from openai) (2.6.4)\n",
            "Requirement already satisfied: sniffio in /usr/local/lib/python3.10/dist-packages (from openai) (1.3.1)\n",
            "Requirement already satisfied: tqdm>4 in /usr/local/lib/python3.10/dist-packages (from openai) (4.66.2)\n",
            "Requirement already satisfied: typing-extensions<5,>=4.7 in /usr/local/lib/python3.10/dist-packages (from openai) (4.10.0)\n",
            "Requirement already satisfied: regex>=2022.1.18 in /usr/local/lib/python3.10/dist-packages (from tiktoken) (2023.12.25)\n",
            "Requirement already satisfied: requests>=2.26.0 in /usr/local/lib/python3.10/dist-packages (from tiktoken) (2.31.0)\n",
            "Requirement already satisfied: idna>=2.8 in /usr/local/lib/python3.10/dist-packages (from anyio<5,>=3.5.0->openai) (3.6)\n",
            "Requirement already satisfied: exceptiongroup in /usr/local/lib/python3.10/dist-packages (from anyio<5,>=3.5.0->openai) (1.2.0)\n",
            "Requirement already satisfied: certifi in /usr/local/lib/python3.10/dist-packages (from httpx<1,>=0.23.0->openai) (2024.2.2)\n",
            "Requirement already satisfied: httpcore==1.* in /usr/local/lib/python3.10/dist-packages (from httpx<1,>=0.23.0->openai) (1.0.5)\n",
            "Requirement already satisfied: h11<0.15,>=0.13 in /usr/local/lib/python3.10/dist-packages (from httpcore==1.*->httpx<1,>=0.23.0->openai) (0.14.0)\n",
            "Requirement already satisfied: annotated-types>=0.4.0 in /usr/local/lib/python3.10/dist-packages (from pydantic<3,>=1.9.0->openai) (0.6.0)\n",
            "Requirement already satisfied: pydantic-core==2.16.3 in /usr/local/lib/python3.10/dist-packages (from pydantic<3,>=1.9.0->openai) (2.16.3)\n",
            "Requirement already satisfied: charset-normalizer<4,>=2 in /usr/local/lib/python3.10/dist-packages (from requests>=2.26.0->tiktoken) (3.3.2)\n",
            "Requirement already satisfied: urllib3<3,>=1.21.1 in /usr/local/lib/python3.10/dist-packages (from requests>=2.26.0->tiktoken) (2.0.7)\n"
          ]
        }
      ],
      "source": [
        "!pip install --upgrade openai tiktoken"
      ]
    },
    {
      "cell_type": "code",
      "source": [
        "!pip install git+https://github.com/wandb/wandb.git@e688ecc9a816e12aef82878e2ab12befe678a3e6"
      ],
      "metadata": {
        "colab": {
          "base_uri": "https://localhost:8080/"
        },
        "id": "hZHixaRxuccc",
        "outputId": "4eeb6d60-12e5-46d5-cd8c-0d28a11261f1"
      },
      "execution_count": 2,
      "outputs": [
        {
          "output_type": "stream",
          "name": "stdout",
          "text": [
            "Collecting git+https://github.com/wandb/wandb.git@e688ecc9a816e12aef82878e2ab12befe678a3e6\n",
            "  Cloning https://github.com/wandb/wandb.git (to revision e688ecc9a816e12aef82878e2ab12befe678a3e6) to /tmp/pip-req-build-q0os99ci\n",
            "  Running command git clone --filter=blob:none --quiet https://github.com/wandb/wandb.git /tmp/pip-req-build-q0os99ci\n",
            "  Running command git rev-parse -q --verify 'sha^e688ecc9a816e12aef82878e2ab12befe678a3e6'\n",
            "  Running command git fetch -q https://github.com/wandb/wandb.git e688ecc9a816e12aef82878e2ab12befe678a3e6\n",
            "  Running command git checkout -q e688ecc9a816e12aef82878e2ab12befe678a3e6\n",
            "  Resolved https://github.com/wandb/wandb.git to commit e688ecc9a816e12aef82878e2ab12befe678a3e6\n",
            "  Installing build dependencies ... \u001b[?25l\u001b[?25hdone\n",
            "  Getting requirements to build wheel ... \u001b[?25l\u001b[?25hdone\n",
            "  Installing backend dependencies ... \u001b[?25l\u001b[?25hdone\n",
            "  Preparing metadata (pyproject.toml) ... \u001b[?25l\u001b[?25hdone\n",
            "Requirement already satisfied: Click!=8.0.0,>=7.1 in /usr/local/lib/python3.10/dist-packages (from wandb==0.16.6.dev1) (8.1.7)\n",
            "Requirement already satisfied: GitPython!=3.1.29,>=1.0.0 in /usr/local/lib/python3.10/dist-packages (from wandb==0.16.6.dev1) (3.1.43)\n",
            "Requirement already satisfied: requests<3,>=2.0.0 in /usr/local/lib/python3.10/dist-packages (from wandb==0.16.6.dev1) (2.31.0)\n",
            "Requirement already satisfied: psutil>=5.0.0 in /usr/local/lib/python3.10/dist-packages (from wandb==0.16.6.dev1) (5.9.5)\n",
            "Requirement already satisfied: sentry-sdk>=1.0.0 in /usr/local/lib/python3.10/dist-packages (from wandb==0.16.6.dev1) (1.44.0)\n",
            "Requirement already satisfied: docker-pycreds>=0.4.0 in /usr/local/lib/python3.10/dist-packages (from wandb==0.16.6.dev1) (0.4.0)\n",
            "Requirement already satisfied: PyYAML in /usr/local/lib/python3.10/dist-packages (from wandb==0.16.6.dev1) (6.0.1)\n",
            "Requirement already satisfied: setproctitle in /usr/local/lib/python3.10/dist-packages (from wandb==0.16.6.dev1) (1.3.3)\n",
            "Requirement already satisfied: setuptools in /usr/local/lib/python3.10/dist-packages (from wandb==0.16.6.dev1) (67.7.2)\n",
            "Requirement already satisfied: appdirs>=1.4.3 in /usr/local/lib/python3.10/dist-packages (from wandb==0.16.6.dev1) (1.4.4)\n",
            "Requirement already satisfied: protobuf!=4.21.0,<5,>=3.19.0 in /usr/local/lib/python3.10/dist-packages (from wandb==0.16.6.dev1) (3.20.3)\n",
            "Requirement already satisfied: six>=1.4.0 in /usr/local/lib/python3.10/dist-packages (from docker-pycreds>=0.4.0->wandb==0.16.6.dev1) (1.16.0)\n",
            "Requirement already satisfied: gitdb<5,>=4.0.1 in /usr/local/lib/python3.10/dist-packages (from GitPython!=3.1.29,>=1.0.0->wandb==0.16.6.dev1) (4.0.11)\n",
            "Requirement already satisfied: charset-normalizer<4,>=2 in /usr/local/lib/python3.10/dist-packages (from requests<3,>=2.0.0->wandb==0.16.6.dev1) (3.3.2)\n",
            "Requirement already satisfied: idna<4,>=2.5 in /usr/local/lib/python3.10/dist-packages (from requests<3,>=2.0.0->wandb==0.16.6.dev1) (3.6)\n",
            "Requirement already satisfied: urllib3<3,>=1.21.1 in /usr/local/lib/python3.10/dist-packages (from requests<3,>=2.0.0->wandb==0.16.6.dev1) (2.0.7)\n",
            "Requirement already satisfied: certifi>=2017.4.17 in /usr/local/lib/python3.10/dist-packages (from requests<3,>=2.0.0->wandb==0.16.6.dev1) (2024.2.2)\n",
            "Requirement already satisfied: smmap<6,>=3.0.1 in /usr/local/lib/python3.10/dist-packages (from gitdb<5,>=4.0.1->GitPython!=3.1.29,>=1.0.0->wandb==0.16.6.dev1) (5.0.1)\n"
          ]
        }
      ]
    },
    {
      "cell_type": "code",
      "source": [
        "import json\n",
        "import openai\n",
        "import os\n",
        "import pandas as pd\n",
        "from pprint import pprint\n",
        "import tiktoken\n",
        "from sklearn.model_selection import train_test_split\n",
        "from google.colab import userdata\n",
        "import numpy as np\n",
        "from collections import defaultdict\n",
        "import wandb\n",
        "from wandb.integration.openai.fine_tuning import WandbLogger\n",
        "\n",
        "\n",
        "client = openai.OpenAI(api_key=userdata.get('OPENAI_API_KEY'))\n",
        "encoding = tiktoken.get_encoding(\"cl100k_base\")\n",
        "\n",
        "WANDB_PROJECT = \"OpenAI-Empathy-Fine-Tune\""
      ],
      "metadata": {
        "id": "dhCfpbtlGAHM"
      },
      "execution_count": 3,
      "outputs": []
    },
    {
      "cell_type": "code",
      "source": [
        "#Estimated token counter\n",
        "def num_tokens_from_messages(messages, tokens_per_message=3, tokens_per_name=1):\n",
        "    num_tokens = 0\n",
        "    for message in messages:\n",
        "        num_tokens += tokens_per_message\n",
        "        for key, value in message.items():\n",
        "            num_tokens += len(encoding.encode(value))\n",
        "            if key == \"name\":\n",
        "                num_tokens += tokens_per_name\n",
        "    num_tokens += 3\n",
        "    return num_tokens\n",
        "\n",
        "def num_assistant_tokens_from_messages(messages):\n",
        "    num_tokens = 0\n",
        "    for message in messages:\n",
        "        if message[\"role\"] == \"assistant\":\n",
        "            num_tokens += len(encoding.encode(message[\"content\"]))\n",
        "    return num_tokens\n",
        "\n",
        "def print_distribution(values, name):\n",
        "    print(f\"\\n#### Distribution of {name}:\")\n",
        "    print(f\"min / max: {min(values)}, {max(values)}\")\n",
        "    print(f\"mean / median: {np.mean(values)}, {np.median(values)}\")\n",
        "    print(f\"p5 / p95: {np.quantile(values, 0.1)}, {np.quantile(values, 0.9)}\")"
      ],
      "metadata": {
        "id": "oEqFleTLfyLO"
      },
      "execution_count": 4,
      "outputs": []
    },
    {
      "cell_type": "markdown",
      "source": [
        "## Data Import and Prep"
      ],
      "metadata": {
        "id": "HMhy7lRJN_et"
      }
    },
    {
      "cell_type": "code",
      "source": [
        "df_empathy = pd.read_csv(\"https://raw.githubusercontent.com/UrologyUnbound/SIOP_ML_2024_Discord/main/data/train/empathy_train.csv\")\n",
        "df_empathy.empathy = df_empathy.empathy.astype(str)\n",
        "df_empathy.head()"
      ],
      "metadata": {
        "id": "G8akfGHiGXCU",
        "outputId": "9398a4f8-607f-4b07-a5a2-8c631f6c2476",
        "colab": {
          "base_uri": "https://localhost:8080/",
          "height": 206
        }
      },
      "execution_count": 5,
      "outputs": [
        {
          "output_type": "execute_result",
          "data": {
            "text/plain": [
              "   _id                                               text empathy\n",
              "0  116  Hi Jonathan, I hope this message finds you wel...       1\n",
              "1   54  Jonathan, I hope you are well - I am very exci...       1\n",
              "2    1  Hi Jonathan, Good to hear you are enjoying the...       1\n",
              "3  130  Jonathan, First I want to thank you for your h...       0\n",
              "4  114  Hey Jonathan! I've been in touch with Terry, I...       1"
            ],
            "text/html": [
              "\n",
              "  <div id=\"df-b522cb67-c40f-4b07-8c5f-b9185761b888\" class=\"colab-df-container\">\n",
              "    <div>\n",
              "<style scoped>\n",
              "    .dataframe tbody tr th:only-of-type {\n",
              "        vertical-align: middle;\n",
              "    }\n",
              "\n",
              "    .dataframe tbody tr th {\n",
              "        vertical-align: top;\n",
              "    }\n",
              "\n",
              "    .dataframe thead th {\n",
              "        text-align: right;\n",
              "    }\n",
              "</style>\n",
              "<table border=\"1\" class=\"dataframe\">\n",
              "  <thead>\n",
              "    <tr style=\"text-align: right;\">\n",
              "      <th></th>\n",
              "      <th>_id</th>\n",
              "      <th>text</th>\n",
              "      <th>empathy</th>\n",
              "    </tr>\n",
              "  </thead>\n",
              "  <tbody>\n",
              "    <tr>\n",
              "      <th>0</th>\n",
              "      <td>116</td>\n",
              "      <td>Hi Jonathan, I hope this message finds you wel...</td>\n",
              "      <td>1</td>\n",
              "    </tr>\n",
              "    <tr>\n",
              "      <th>1</th>\n",
              "      <td>54</td>\n",
              "      <td>Jonathan, I hope you are well - I am very exci...</td>\n",
              "      <td>1</td>\n",
              "    </tr>\n",
              "    <tr>\n",
              "      <th>2</th>\n",
              "      <td>1</td>\n",
              "      <td>Hi Jonathan, Good to hear you are enjoying the...</td>\n",
              "      <td>1</td>\n",
              "    </tr>\n",
              "    <tr>\n",
              "      <th>3</th>\n",
              "      <td>130</td>\n",
              "      <td>Jonathan, First I want to thank you for your h...</td>\n",
              "      <td>0</td>\n",
              "    </tr>\n",
              "    <tr>\n",
              "      <th>4</th>\n",
              "      <td>114</td>\n",
              "      <td>Hey Jonathan! I've been in touch with Terry, I...</td>\n",
              "      <td>1</td>\n",
              "    </tr>\n",
              "  </tbody>\n",
              "</table>\n",
              "</div>\n",
              "    <div class=\"colab-df-buttons\">\n",
              "\n",
              "  <div class=\"colab-df-container\">\n",
              "    <button class=\"colab-df-convert\" onclick=\"convertToInteractive('df-b522cb67-c40f-4b07-8c5f-b9185761b888')\"\n",
              "            title=\"Convert this dataframe to an interactive table.\"\n",
              "            style=\"display:none;\">\n",
              "\n",
              "  <svg xmlns=\"http://www.w3.org/2000/svg\" height=\"24px\" viewBox=\"0 -960 960 960\">\n",
              "    <path d=\"M120-120v-720h720v720H120Zm60-500h600v-160H180v160Zm220 220h160v-160H400v160Zm0 220h160v-160H400v160ZM180-400h160v-160H180v160Zm440 0h160v-160H620v160ZM180-180h160v-160H180v160Zm440 0h160v-160H620v160Z\"/>\n",
              "  </svg>\n",
              "    </button>\n",
              "\n",
              "  <style>\n",
              "    .colab-df-container {\n",
              "      display:flex;\n",
              "      gap: 12px;\n",
              "    }\n",
              "\n",
              "    .colab-df-convert {\n",
              "      background-color: #E8F0FE;\n",
              "      border: none;\n",
              "      border-radius: 50%;\n",
              "      cursor: pointer;\n",
              "      display: none;\n",
              "      fill: #1967D2;\n",
              "      height: 32px;\n",
              "      padding: 0 0 0 0;\n",
              "      width: 32px;\n",
              "    }\n",
              "\n",
              "    .colab-df-convert:hover {\n",
              "      background-color: #E2EBFA;\n",
              "      box-shadow: 0px 1px 2px rgba(60, 64, 67, 0.3), 0px 1px 3px 1px rgba(60, 64, 67, 0.15);\n",
              "      fill: #174EA6;\n",
              "    }\n",
              "\n",
              "    .colab-df-buttons div {\n",
              "      margin-bottom: 4px;\n",
              "    }\n",
              "\n",
              "    [theme=dark] .colab-df-convert {\n",
              "      background-color: #3B4455;\n",
              "      fill: #D2E3FC;\n",
              "    }\n",
              "\n",
              "    [theme=dark] .colab-df-convert:hover {\n",
              "      background-color: #434B5C;\n",
              "      box-shadow: 0px 1px 3px 1px rgba(0, 0, 0, 0.15);\n",
              "      filter: drop-shadow(0px 1px 2px rgba(0, 0, 0, 0.3));\n",
              "      fill: #FFFFFF;\n",
              "    }\n",
              "  </style>\n",
              "\n",
              "    <script>\n",
              "      const buttonEl =\n",
              "        document.querySelector('#df-b522cb67-c40f-4b07-8c5f-b9185761b888 button.colab-df-convert');\n",
              "      buttonEl.style.display =\n",
              "        google.colab.kernel.accessAllowed ? 'block' : 'none';\n",
              "\n",
              "      async function convertToInteractive(key) {\n",
              "        const element = document.querySelector('#df-b522cb67-c40f-4b07-8c5f-b9185761b888');\n",
              "        const dataTable =\n",
              "          await google.colab.kernel.invokeFunction('convertToInteractive',\n",
              "                                                    [key], {});\n",
              "        if (!dataTable) return;\n",
              "\n",
              "        const docLinkHtml = 'Like what you see? Visit the ' +\n",
              "          '<a target=\"_blank\" href=https://colab.research.google.com/notebooks/data_table.ipynb>data table notebook</a>'\n",
              "          + ' to learn more about interactive tables.';\n",
              "        element.innerHTML = '';\n",
              "        dataTable['output_type'] = 'display_data';\n",
              "        await google.colab.output.renderOutput(dataTable, element);\n",
              "        const docLink = document.createElement('div');\n",
              "        docLink.innerHTML = docLinkHtml;\n",
              "        element.appendChild(docLink);\n",
              "      }\n",
              "    </script>\n",
              "  </div>\n",
              "\n",
              "\n",
              "<div id=\"df-2a1fda37-969b-4d2a-9cf6-a1c3619bc16f\">\n",
              "  <button class=\"colab-df-quickchart\" onclick=\"quickchart('df-2a1fda37-969b-4d2a-9cf6-a1c3619bc16f')\"\n",
              "            title=\"Suggest charts\"\n",
              "            style=\"display:none;\">\n",
              "\n",
              "<svg xmlns=\"http://www.w3.org/2000/svg\" height=\"24px\"viewBox=\"0 0 24 24\"\n",
              "     width=\"24px\">\n",
              "    <g>\n",
              "        <path d=\"M19 3H5c-1.1 0-2 .9-2 2v14c0 1.1.9 2 2 2h14c1.1 0 2-.9 2-2V5c0-1.1-.9-2-2-2zM9 17H7v-7h2v7zm4 0h-2V7h2v10zm4 0h-2v-4h2v4z\"/>\n",
              "    </g>\n",
              "</svg>\n",
              "  </button>\n",
              "\n",
              "<style>\n",
              "  .colab-df-quickchart {\n",
              "      --bg-color: #E8F0FE;\n",
              "      --fill-color: #1967D2;\n",
              "      --hover-bg-color: #E2EBFA;\n",
              "      --hover-fill-color: #174EA6;\n",
              "      --disabled-fill-color: #AAA;\n",
              "      --disabled-bg-color: #DDD;\n",
              "  }\n",
              "\n",
              "  [theme=dark] .colab-df-quickchart {\n",
              "      --bg-color: #3B4455;\n",
              "      --fill-color: #D2E3FC;\n",
              "      --hover-bg-color: #434B5C;\n",
              "      --hover-fill-color: #FFFFFF;\n",
              "      --disabled-bg-color: #3B4455;\n",
              "      --disabled-fill-color: #666;\n",
              "  }\n",
              "\n",
              "  .colab-df-quickchart {\n",
              "    background-color: var(--bg-color);\n",
              "    border: none;\n",
              "    border-radius: 50%;\n",
              "    cursor: pointer;\n",
              "    display: none;\n",
              "    fill: var(--fill-color);\n",
              "    height: 32px;\n",
              "    padding: 0;\n",
              "    width: 32px;\n",
              "  }\n",
              "\n",
              "  .colab-df-quickchart:hover {\n",
              "    background-color: var(--hover-bg-color);\n",
              "    box-shadow: 0 1px 2px rgba(60, 64, 67, 0.3), 0 1px 3px 1px rgba(60, 64, 67, 0.15);\n",
              "    fill: var(--button-hover-fill-color);\n",
              "  }\n",
              "\n",
              "  .colab-df-quickchart-complete:disabled,\n",
              "  .colab-df-quickchart-complete:disabled:hover {\n",
              "    background-color: var(--disabled-bg-color);\n",
              "    fill: var(--disabled-fill-color);\n",
              "    box-shadow: none;\n",
              "  }\n",
              "\n",
              "  .colab-df-spinner {\n",
              "    border: 2px solid var(--fill-color);\n",
              "    border-color: transparent;\n",
              "    border-bottom-color: var(--fill-color);\n",
              "    animation:\n",
              "      spin 1s steps(1) infinite;\n",
              "  }\n",
              "\n",
              "  @keyframes spin {\n",
              "    0% {\n",
              "      border-color: transparent;\n",
              "      border-bottom-color: var(--fill-color);\n",
              "      border-left-color: var(--fill-color);\n",
              "    }\n",
              "    20% {\n",
              "      border-color: transparent;\n",
              "      border-left-color: var(--fill-color);\n",
              "      border-top-color: var(--fill-color);\n",
              "    }\n",
              "    30% {\n",
              "      border-color: transparent;\n",
              "      border-left-color: var(--fill-color);\n",
              "      border-top-color: var(--fill-color);\n",
              "      border-right-color: var(--fill-color);\n",
              "    }\n",
              "    40% {\n",
              "      border-color: transparent;\n",
              "      border-right-color: var(--fill-color);\n",
              "      border-top-color: var(--fill-color);\n",
              "    }\n",
              "    60% {\n",
              "      border-color: transparent;\n",
              "      border-right-color: var(--fill-color);\n",
              "    }\n",
              "    80% {\n",
              "      border-color: transparent;\n",
              "      border-right-color: var(--fill-color);\n",
              "      border-bottom-color: var(--fill-color);\n",
              "    }\n",
              "    90% {\n",
              "      border-color: transparent;\n",
              "      border-bottom-color: var(--fill-color);\n",
              "    }\n",
              "  }\n",
              "</style>\n",
              "\n",
              "  <script>\n",
              "    async function quickchart(key) {\n",
              "      const quickchartButtonEl =\n",
              "        document.querySelector('#' + key + ' button');\n",
              "      quickchartButtonEl.disabled = true;  // To prevent multiple clicks.\n",
              "      quickchartButtonEl.classList.add('colab-df-spinner');\n",
              "      try {\n",
              "        const charts = await google.colab.kernel.invokeFunction(\n",
              "            'suggestCharts', [key], {});\n",
              "      } catch (error) {\n",
              "        console.error('Error during call to suggestCharts:', error);\n",
              "      }\n",
              "      quickchartButtonEl.classList.remove('colab-df-spinner');\n",
              "      quickchartButtonEl.classList.add('colab-df-quickchart-complete');\n",
              "    }\n",
              "    (() => {\n",
              "      let quickchartButtonEl =\n",
              "        document.querySelector('#df-2a1fda37-969b-4d2a-9cf6-a1c3619bc16f button');\n",
              "      quickchartButtonEl.style.display =\n",
              "        google.colab.kernel.accessAllowed ? 'block' : 'none';\n",
              "    })();\n",
              "  </script>\n",
              "</div>\n",
              "\n",
              "    </div>\n",
              "  </div>\n"
            ],
            "application/vnd.google.colaboratory.intrinsic+json": {
              "type": "dataframe",
              "variable_name": "df_empathy",
              "summary": "{\n  \"name\": \"df_empathy\",\n  \"rows\": 30,\n  \"fields\": [\n    {\n      \"column\": \"_id\",\n      \"properties\": {\n        \"dtype\": \"number\",\n        \"std\": 54,\n        \"min\": 1,\n        \"max\": 192,\n        \"num_unique_values\": 30,\n        \"samples\": [\n          153,\n          73,\n          13\n        ],\n        \"semantic_type\": \"\",\n        \"description\": \"\"\n      }\n    },\n    {\n      \"column\": \"text\",\n      \"properties\": {\n        \"dtype\": \"string\",\n        \"num_unique_values\": 30,\n        \"samples\": [\n          \"Hi Jonathan, I am glad to hear that you are enjoying your job,  traveling and learning more about the Beta ray technology. I wanted to share some feedback with you that I received. I want to help you be able to advance in your career and I feel that this feedback will be helpful. I am excited that you are will to share your perspectives on the findings, however if you could focus on the data portion first, and highlight the main points, that would be really beneficial to your audience. By being more concise it will allow the potential customers and then CEO to focus on the facts of the report, which will allow them to make a decision for themselves. I understand that this is probably a newer to writing the reports, and I don't think that anyone has shown you an example of how the reports are usually written, so I have sent you some examples for you to review. I think that you are doing a good job learning and with this little tweak in the report writing you will be able to advance in your career. In order to help you, if you don't mind, I would like to review the report before you submit it and then we can work together to ensure it will be a great report. I understand that you really enjoy providing your perspectives on the technology and recommendations on how it can be used, so we will find a spot for that in the report as well, but perhaps in a different section. Thank you so much for your time today and I look forward to working with you. \",\n          \"Hi Jonathan, I hope you're having safe travels along your way. I'm reaching out to you because you are a valued employee, and we appreciate your hard work and research. While I understand you are passionate about these projects, it is imperative that you keep your reports concise, seeing as we are all continuously on a time crunch. Because these reports are not written as efficiently as possible, it is taking too much of our time to read and determine which bit of information is most valuable. I need you to shift the way you are writing these reports so that way we can maximize our work flow processes. We love having you on our team, but if you can not make these necessary changes, we may have to relocate your skill set to a different department. However, I am positive you can make these minor changes in the way you create your reports. Please research the formal way to write reports so that way you no longer add too much information. These reports should have less opinions, and more facts. I will also send some material for you to review on how to keep these reports business friendly. I love your passion and your drive, I am hoping we can continue to have you on this project. A few minor changes will be all it takes to get the ball rolling in the right direction! If you have any concerns, feel free to reach out to me and I will be more than happy to assist. Thank you, William\",\n          \"Dear Jonathan, I am writing to find out how things are going on the Beta project. I understand that you are enjoying the role and finding new applications.I have had some feedback from Terry confirming that you are doing well but there are some improvement points that I would like to discuss with you. It has been noted that your contributions are providing real value and they enjoy working with you, however, some of this value is spoiled by a conversational tone and being a bit verbose. In business correspondence it is essential that the facts are clear, concise and distinguishable from opinion, otherwise the message may be lost (regardless of how good it is).There are a number of significant reports required in the coming weeks. Please could you ensure that you confirm with Terry the exact detail and format required for specific reports and communication. He should be able to provide templates and guidance to ensure that his requirements are met. I would also recommend that you undertake a report-writing course, which should help you to ensure that you convey your great ideas in the best possible way.I am keen to support you to ensure the success of the project and your professional development. When I return in 2 weeks I would like to have a conference call with you and Terry to better understand how we can help you going forward.  Please could you respond to confirm that you have received this email. Regards, William\"\n        ],\n        \"semantic_type\": \"\",\n        \"description\": \"\"\n      }\n    },\n    {\n      \"column\": \"empathy\",\n      \"properties\": {\n        \"dtype\": \"category\",\n        \"num_unique_values\": 2,\n        \"samples\": [\n          \"0\",\n          \"1\"\n        ],\n        \"semantic_type\": \"\",\n        \"description\": \"\"\n      }\n    }\n  ]\n}"
            }
          },
          "metadata": {},
          "execution_count": 5
        }
      ]
    },
    {
      "cell_type": "code",
      "source": [
        "df_empathy.empathy = df_empathy.empathy.map({\"1\":\"Empathetic\",\"0\":\"Non-empathetic\"})"
      ],
      "metadata": {
        "id": "XixTNM1WnEqM"
      },
      "execution_count": 6,
      "outputs": []
    },
    {
      "cell_type": "code",
      "source": [
        "df_empathy.iloc[df_empathy.text.str.len().idxmax()].text"
      ],
      "metadata": {
        "id": "EaxaahHcaCrN",
        "outputId": "e0642671-6298-4ada-a7e3-97f61f4f4c00",
        "colab": {
          "base_uri": "https://localhost:8080/",
          "height": 158
        }
      },
      "execution_count": 7,
      "outputs": [
        {
          "output_type": "execute_result",
          "data": {
            "text/plain": [
              "'Hello Jonathan, I hope you are doing well. As I am only in office today and you are on a travel, I am contacting you via Mail.I became a feedback from people related to your reports in the Beta project that I want to discuss with you. In general, the team is happy about your skills in contribution and espacially your way to identify improvements they may would have not seen. At first, your technical reports contain too much commentary that are not neccessary and make the report too long. Your ideas and thoughts about the technical solution are important, but you should only note them down separatly to discuss those with the project team, not to write them in the reports.Second is that your technical writing level is not on the level it is required to be. to presennt this to customer or our CEO. This requires that the colleagues are correcting your work  what leads due to the high pressure to delays, which is embarassingfor the colleagues who commited end dates.It might be that you will be removed out of the project team Beta because of this. This is not to blame you, we just need to be more efficient in this urgent stage to provide the reports.As I know you are an ambitious employee and you want to do the best. I am also sure you want to be developped in a way that you are getting a lead engineer.  To achieve this target, we need to work on your skills in writing technical reports to only note down the required information. Your technical skiills are already on the required level. In addition, the usiness writing is a topic that we can work on.At first we can agree that you send me each chapter that you finalized so that I can have a review before submitting all to Terry. In addition, we need to check for courses to strengthen you rskills in writing reports as I also want to continue working with you. I see a high potential, we need to sit together to develop you in right directions.I wish you a save travel back. If you have any questions or concerns you can always write or call me. Best Regards, William'"
            ],
            "application/vnd.google.colaboratory.intrinsic+json": {
              "type": "string"
            }
          },
          "metadata": {},
          "execution_count": 7
        }
      ]
    },
    {
      "cell_type": "code",
      "source": [
        "df_empathy.dtypes"
      ],
      "metadata": {
        "id": "z4p0h8xXXamC",
        "outputId": "8e31df89-459e-4705-a5a2-61ca7f100a8b",
        "colab": {
          "base_uri": "https://localhost:8080/"
        }
      },
      "execution_count": 8,
      "outputs": [
        {
          "output_type": "execute_result",
          "data": {
            "text/plain": [
              "_id         int64\n",
              "text       object\n",
              "empathy    object\n",
              "dtype: object"
            ]
          },
          "metadata": {},
          "execution_count": 8
        }
      ]
    },
    {
      "cell_type": "code",
      "source": [
        "x_train,x_test,y_train,y_test = train_test_split(df_empathy[\"text\"],df_empathy[\"empathy\"],random_state=42,test_size = 0.2, shuffle=True, stratify=df_empathy[\"empathy\"])\n",
        "train_data = pd.concat([x_train , y_train], axis = 1)\n",
        "test_data = pd.concat([x_train , y_train], axis = 1)\n",
        "train_data.head()\n"
      ],
      "metadata": {
        "id": "yPaLpkA1HZxG",
        "outputId": "8a65d091-120a-47cf-f5ff-4982cb8cbab8",
        "colab": {
          "base_uri": "https://localhost:8080/",
          "height": 206
        }
      },
      "execution_count": 9,
      "outputs": [
        {
          "output_type": "execute_result",
          "data": {
            "text/plain": [
              "                                                 text         empathy\n",
              "3   Jonathan, First I want to thank you for your h...  Non-empathetic\n",
              "26  Hi Jonathan, Thank you for your message. I am ...      Empathetic\n",
              "22  Hi Jonathan, I just happened to know that you ...      Empathetic\n",
              "8   Hi Jonathan, I have been hearing about some of...      Empathetic\n",
              "27  Hi Jonathan, I am glad to hear that you are en...  Non-empathetic"
            ],
            "text/html": [
              "\n",
              "  <div id=\"df-0bed9fcd-dccf-4d3c-9c68-f459927bfe54\" class=\"colab-df-container\">\n",
              "    <div>\n",
              "<style scoped>\n",
              "    .dataframe tbody tr th:only-of-type {\n",
              "        vertical-align: middle;\n",
              "    }\n",
              "\n",
              "    .dataframe tbody tr th {\n",
              "        vertical-align: top;\n",
              "    }\n",
              "\n",
              "    .dataframe thead th {\n",
              "        text-align: right;\n",
              "    }\n",
              "</style>\n",
              "<table border=\"1\" class=\"dataframe\">\n",
              "  <thead>\n",
              "    <tr style=\"text-align: right;\">\n",
              "      <th></th>\n",
              "      <th>text</th>\n",
              "      <th>empathy</th>\n",
              "    </tr>\n",
              "  </thead>\n",
              "  <tbody>\n",
              "    <tr>\n",
              "      <th>3</th>\n",
              "      <td>Jonathan, First I want to thank you for your h...</td>\n",
              "      <td>Non-empathetic</td>\n",
              "    </tr>\n",
              "    <tr>\n",
              "      <th>26</th>\n",
              "      <td>Hi Jonathan, Thank you for your message. I am ...</td>\n",
              "      <td>Empathetic</td>\n",
              "    </tr>\n",
              "    <tr>\n",
              "      <th>22</th>\n",
              "      <td>Hi Jonathan, I just happened to know that you ...</td>\n",
              "      <td>Empathetic</td>\n",
              "    </tr>\n",
              "    <tr>\n",
              "      <th>8</th>\n",
              "      <td>Hi Jonathan, I have been hearing about some of...</td>\n",
              "      <td>Empathetic</td>\n",
              "    </tr>\n",
              "    <tr>\n",
              "      <th>27</th>\n",
              "      <td>Hi Jonathan, I am glad to hear that you are en...</td>\n",
              "      <td>Non-empathetic</td>\n",
              "    </tr>\n",
              "  </tbody>\n",
              "</table>\n",
              "</div>\n",
              "    <div class=\"colab-df-buttons\">\n",
              "\n",
              "  <div class=\"colab-df-container\">\n",
              "    <button class=\"colab-df-convert\" onclick=\"convertToInteractive('df-0bed9fcd-dccf-4d3c-9c68-f459927bfe54')\"\n",
              "            title=\"Convert this dataframe to an interactive table.\"\n",
              "            style=\"display:none;\">\n",
              "\n",
              "  <svg xmlns=\"http://www.w3.org/2000/svg\" height=\"24px\" viewBox=\"0 -960 960 960\">\n",
              "    <path d=\"M120-120v-720h720v720H120Zm60-500h600v-160H180v160Zm220 220h160v-160H400v160Zm0 220h160v-160H400v160ZM180-400h160v-160H180v160Zm440 0h160v-160H620v160ZM180-180h160v-160H180v160Zm440 0h160v-160H620v160Z\"/>\n",
              "  </svg>\n",
              "    </button>\n",
              "\n",
              "  <style>\n",
              "    .colab-df-container {\n",
              "      display:flex;\n",
              "      gap: 12px;\n",
              "    }\n",
              "\n",
              "    .colab-df-convert {\n",
              "      background-color: #E8F0FE;\n",
              "      border: none;\n",
              "      border-radius: 50%;\n",
              "      cursor: pointer;\n",
              "      display: none;\n",
              "      fill: #1967D2;\n",
              "      height: 32px;\n",
              "      padding: 0 0 0 0;\n",
              "      width: 32px;\n",
              "    }\n",
              "\n",
              "    .colab-df-convert:hover {\n",
              "      background-color: #E2EBFA;\n",
              "      box-shadow: 0px 1px 2px rgba(60, 64, 67, 0.3), 0px 1px 3px 1px rgba(60, 64, 67, 0.15);\n",
              "      fill: #174EA6;\n",
              "    }\n",
              "\n",
              "    .colab-df-buttons div {\n",
              "      margin-bottom: 4px;\n",
              "    }\n",
              "\n",
              "    [theme=dark] .colab-df-convert {\n",
              "      background-color: #3B4455;\n",
              "      fill: #D2E3FC;\n",
              "    }\n",
              "\n",
              "    [theme=dark] .colab-df-convert:hover {\n",
              "      background-color: #434B5C;\n",
              "      box-shadow: 0px 1px 3px 1px rgba(0, 0, 0, 0.15);\n",
              "      filter: drop-shadow(0px 1px 2px rgba(0, 0, 0, 0.3));\n",
              "      fill: #FFFFFF;\n",
              "    }\n",
              "  </style>\n",
              "\n",
              "    <script>\n",
              "      const buttonEl =\n",
              "        document.querySelector('#df-0bed9fcd-dccf-4d3c-9c68-f459927bfe54 button.colab-df-convert');\n",
              "      buttonEl.style.display =\n",
              "        google.colab.kernel.accessAllowed ? 'block' : 'none';\n",
              "\n",
              "      async function convertToInteractive(key) {\n",
              "        const element = document.querySelector('#df-0bed9fcd-dccf-4d3c-9c68-f459927bfe54');\n",
              "        const dataTable =\n",
              "          await google.colab.kernel.invokeFunction('convertToInteractive',\n",
              "                                                    [key], {});\n",
              "        if (!dataTable) return;\n",
              "\n",
              "        const docLinkHtml = 'Like what you see? Visit the ' +\n",
              "          '<a target=\"_blank\" href=https://colab.research.google.com/notebooks/data_table.ipynb>data table notebook</a>'\n",
              "          + ' to learn more about interactive tables.';\n",
              "        element.innerHTML = '';\n",
              "        dataTable['output_type'] = 'display_data';\n",
              "        await google.colab.output.renderOutput(dataTable, element);\n",
              "        const docLink = document.createElement('div');\n",
              "        docLink.innerHTML = docLinkHtml;\n",
              "        element.appendChild(docLink);\n",
              "      }\n",
              "    </script>\n",
              "  </div>\n",
              "\n",
              "\n",
              "<div id=\"df-7cedac0d-d821-43d3-b93d-fc581eb9ebb9\">\n",
              "  <button class=\"colab-df-quickchart\" onclick=\"quickchart('df-7cedac0d-d821-43d3-b93d-fc581eb9ebb9')\"\n",
              "            title=\"Suggest charts\"\n",
              "            style=\"display:none;\">\n",
              "\n",
              "<svg xmlns=\"http://www.w3.org/2000/svg\" height=\"24px\"viewBox=\"0 0 24 24\"\n",
              "     width=\"24px\">\n",
              "    <g>\n",
              "        <path d=\"M19 3H5c-1.1 0-2 .9-2 2v14c0 1.1.9 2 2 2h14c1.1 0 2-.9 2-2V5c0-1.1-.9-2-2-2zM9 17H7v-7h2v7zm4 0h-2V7h2v10zm4 0h-2v-4h2v4z\"/>\n",
              "    </g>\n",
              "</svg>\n",
              "  </button>\n",
              "\n",
              "<style>\n",
              "  .colab-df-quickchart {\n",
              "      --bg-color: #E8F0FE;\n",
              "      --fill-color: #1967D2;\n",
              "      --hover-bg-color: #E2EBFA;\n",
              "      --hover-fill-color: #174EA6;\n",
              "      --disabled-fill-color: #AAA;\n",
              "      --disabled-bg-color: #DDD;\n",
              "  }\n",
              "\n",
              "  [theme=dark] .colab-df-quickchart {\n",
              "      --bg-color: #3B4455;\n",
              "      --fill-color: #D2E3FC;\n",
              "      --hover-bg-color: #434B5C;\n",
              "      --hover-fill-color: #FFFFFF;\n",
              "      --disabled-bg-color: #3B4455;\n",
              "      --disabled-fill-color: #666;\n",
              "  }\n",
              "\n",
              "  .colab-df-quickchart {\n",
              "    background-color: var(--bg-color);\n",
              "    border: none;\n",
              "    border-radius: 50%;\n",
              "    cursor: pointer;\n",
              "    display: none;\n",
              "    fill: var(--fill-color);\n",
              "    height: 32px;\n",
              "    padding: 0;\n",
              "    width: 32px;\n",
              "  }\n",
              "\n",
              "  .colab-df-quickchart:hover {\n",
              "    background-color: var(--hover-bg-color);\n",
              "    box-shadow: 0 1px 2px rgba(60, 64, 67, 0.3), 0 1px 3px 1px rgba(60, 64, 67, 0.15);\n",
              "    fill: var(--button-hover-fill-color);\n",
              "  }\n",
              "\n",
              "  .colab-df-quickchart-complete:disabled,\n",
              "  .colab-df-quickchart-complete:disabled:hover {\n",
              "    background-color: var(--disabled-bg-color);\n",
              "    fill: var(--disabled-fill-color);\n",
              "    box-shadow: none;\n",
              "  }\n",
              "\n",
              "  .colab-df-spinner {\n",
              "    border: 2px solid var(--fill-color);\n",
              "    border-color: transparent;\n",
              "    border-bottom-color: var(--fill-color);\n",
              "    animation:\n",
              "      spin 1s steps(1) infinite;\n",
              "  }\n",
              "\n",
              "  @keyframes spin {\n",
              "    0% {\n",
              "      border-color: transparent;\n",
              "      border-bottom-color: var(--fill-color);\n",
              "      border-left-color: var(--fill-color);\n",
              "    }\n",
              "    20% {\n",
              "      border-color: transparent;\n",
              "      border-left-color: var(--fill-color);\n",
              "      border-top-color: var(--fill-color);\n",
              "    }\n",
              "    30% {\n",
              "      border-color: transparent;\n",
              "      border-left-color: var(--fill-color);\n",
              "      border-top-color: var(--fill-color);\n",
              "      border-right-color: var(--fill-color);\n",
              "    }\n",
              "    40% {\n",
              "      border-color: transparent;\n",
              "      border-right-color: var(--fill-color);\n",
              "      border-top-color: var(--fill-color);\n",
              "    }\n",
              "    60% {\n",
              "      border-color: transparent;\n",
              "      border-right-color: var(--fill-color);\n",
              "    }\n",
              "    80% {\n",
              "      border-color: transparent;\n",
              "      border-right-color: var(--fill-color);\n",
              "      border-bottom-color: var(--fill-color);\n",
              "    }\n",
              "    90% {\n",
              "      border-color: transparent;\n",
              "      border-bottom-color: var(--fill-color);\n",
              "    }\n",
              "  }\n",
              "</style>\n",
              "\n",
              "  <script>\n",
              "    async function quickchart(key) {\n",
              "      const quickchartButtonEl =\n",
              "        document.querySelector('#' + key + ' button');\n",
              "      quickchartButtonEl.disabled = true;  // To prevent multiple clicks.\n",
              "      quickchartButtonEl.classList.add('colab-df-spinner');\n",
              "      try {\n",
              "        const charts = await google.colab.kernel.invokeFunction(\n",
              "            'suggestCharts', [key], {});\n",
              "      } catch (error) {\n",
              "        console.error('Error during call to suggestCharts:', error);\n",
              "      }\n",
              "      quickchartButtonEl.classList.remove('colab-df-spinner');\n",
              "      quickchartButtonEl.classList.add('colab-df-quickchart-complete');\n",
              "    }\n",
              "    (() => {\n",
              "      let quickchartButtonEl =\n",
              "        document.querySelector('#df-7cedac0d-d821-43d3-b93d-fc581eb9ebb9 button');\n",
              "      quickchartButtonEl.style.display =\n",
              "        google.colab.kernel.accessAllowed ? 'block' : 'none';\n",
              "    })();\n",
              "  </script>\n",
              "</div>\n",
              "\n",
              "    </div>\n",
              "  </div>\n"
            ],
            "application/vnd.google.colaboratory.intrinsic+json": {
              "type": "dataframe",
              "variable_name": "train_data",
              "summary": "{\n  \"name\": \"train_data\",\n  \"rows\": 24,\n  \"fields\": [\n    {\n      \"column\": \"text\",\n      \"properties\": {\n        \"dtype\": \"string\",\n        \"num_unique_values\": 24,\n        \"samples\": [\n          \"Hi Jonathan, I hope you are doing well. Unfortunately I won't be able to talk to you personally but as soon as I am back I would like to spend some time with you. I know you are working on Beta project and your involvement is highly appreciated\\u00a0, you even identified improvements the team didn't identify, that's great!  This Beta project is key for the company, we need to success all together. In that respect, key priorities are to build concise reports and with strong business writing. Terry has been within the company for 5 years and is the best one to be consulted to upskill in these areas. Could you please liaise with him and get more quick wins from him. It will be very impactful in your career. We will discuss once I'm back about this sharing experience. I'm sure you will find a lot of benefits. Regards William\",\n          \"Hello, Jonathan....i understand you are pretty excited about the Beta project and all its possibilities. You have a key role in that project and the information you provide is critical for seniors to make decisions.In order for the process to flow more smoothly I need you to focus and limit your report to data and technical information. Recommendations and opinions could be sent to me on a weekely basis. Also, I would like to sit down and coach you on report writing when I am back. That will be a great development for your career. In the meantime, please let me knwo if it would be helpeful to do that with \",\n          \"Jonathan, First I want to thank you for your help with the Beta project.  However,  it has been brought to my attention that perhaps ABC-5 didn't do enough to prepare you for the extra work and I would like to discuss some issues. The nature of these reports requires them to be technical in nature.  Your insights are very valuable and much appreciated but as the old line goes \\\"please give me just the facts\\\".  Given the critical nature of the information you are providing I can't stress the importance of concise yet detail factual reports.  I would like to review your reports as a training exercise to help you better meet the team requirements.  Given that there are some major reports coming up in the immediate future, I would like you to review some training options and then present a report for review.  Again your insights are appreciated but we need to make sure we are presenting the end-use with only the information they need to make a sound business decision. I also understand you would like to grow into a leadership position so I would like to discuss how successfully implementing these changes would be beneficial in demonstrating an ability to grow and take on new challenges. \"\n        ],\n        \"semantic_type\": \"\",\n        \"description\": \"\"\n      }\n    },\n    {\n      \"column\": \"empathy\",\n      \"properties\": {\n        \"dtype\": \"category\",\n        \"num_unique_values\": 2,\n        \"samples\": [\n          \"Empathetic\",\n          \"Non-empathetic\"\n        ],\n        \"semantic_type\": \"\",\n        \"description\": \"\"\n      }\n    }\n  ]\n}"
            }
          },
          "metadata": {},
          "execution_count": 9
        }
      ]
    },
    {
      "cell_type": "code",
      "source": [
        "training_data = []\n",
        "\n",
        "system_message = \"\"\"\n",
        "Your task is to classify the provided text as either \"Empathetic\" or \"Non-empathetic\".\n",
        "Empathetic Responses involve understanding, supportiveness, and active engagement. Understanding is demonstrated by showing comprehension\n",
        "of the individual's feelings and perspective. Supportiveness entails offering genuine support, guidance, or constructive feedback while\n",
        "respecting the individual's contributions and feelings. Active engagement is displayed through asking questions or suggesting actions that\n",
        "actively engage with the individual's situation. Non-Empathetic Responses lack empathetic qualities. They may lack personalization, offering\n",
        "generic advice or feedback without addressing the individual's specific feelings or situation. Dismissiveness occurs when the individual's\n",
        "feelings, concerns, or contributions are downplayed or ignored. Superficiality refers to appearing empathetic on the surface but lacking depth\n",
        "in understanding or supporting the individual's actual needs.\n",
        "\"\"\"\n",
        "\n",
        "def create_user_message(row):\n",
        "    return f\"\"\"Message to Classify: {row['text']}\"\"\"\n",
        "\n",
        "def prepare_example_conversation(row):\n",
        "    messages = []\n",
        "    messages.append({\"role\": \"system\", \"content\": system_message})\n",
        "\n",
        "    user_message = create_user_message(row)\n",
        "    messages.append({\"role\": \"user\", \"content\": user_message})\n",
        "\n",
        "    messages.append({\"role\": \"assistant\", \"content\": row[\"empathy\"]})\n",
        "\n",
        "    return {\"messages\": messages}\n",
        "\n",
        "pprint(prepare_example_conversation(train_data.iloc[0]))"
      ],
      "metadata": {
        "id": "L9mDNYK0L2XG",
        "outputId": "d10e072a-19cb-4992-f1b8-751007ec0729",
        "colab": {
          "base_uri": "https://localhost:8080/"
        }
      },
      "execution_count": 10,
      "outputs": [
        {
          "output_type": "stream",
          "name": "stdout",
          "text": [
            "{'messages': [{'content': '\\n'\n",
            "                          'Your task is to classify the provided text as '\n",
            "                          'either \"Empathetic\" or \"Non-empathetic\".\\n'\n",
            "                          'Empathetic Responses involve understanding, '\n",
            "                          'supportiveness, and active engagement. '\n",
            "                          'Understanding is demonstrated by showing '\n",
            "                          'comprehension\\n'\n",
            "                          \"of the individual's feelings and perspective. \"\n",
            "                          'Supportiveness entails offering genuine support, '\n",
            "                          'guidance, or constructive feedback while\\n'\n",
            "                          \"respecting the individual's contributions and \"\n",
            "                          'feelings. Active engagement is displayed through '\n",
            "                          'asking questions or suggesting actions that\\n'\n",
            "                          \"actively engage with the individual's situation. \"\n",
            "                          'Non-Empathetic Responses lack empathetic qualities. '\n",
            "                          'They may lack personalization, offering\\n'\n",
            "                          'generic advice or feedback without addressing the '\n",
            "                          \"individual's specific feelings or situation. \"\n",
            "                          \"Dismissiveness occurs when the individual's\\n\"\n",
            "                          'feelings, concerns, or contributions are downplayed '\n",
            "                          'or ignored. Superficiality refers to appearing '\n",
            "                          'empathetic on the surface but lacking depth\\n'\n",
            "                          \"in understanding or supporting the individual's \"\n",
            "                          'actual needs.\\n',\n",
            "               'role': 'system'},\n",
            "              {'content': 'Message to Classify: Jonathan, First I want to '\n",
            "                          'thank you for your help with the Beta project.  '\n",
            "                          'However,  it has been brought to my attention that '\n",
            "                          \"perhaps ABC-5 didn't do enough to prepare you for \"\n",
            "                          'the extra work and I would like to discuss some '\n",
            "                          'issues. The nature of these reports requires them '\n",
            "                          'to be technical in nature.  Your insights are very '\n",
            "                          'valuable and much appreciated but as the old line '\n",
            "                          'goes \"please give me just the facts\".  Given the '\n",
            "                          'critical nature of the information you are '\n",
            "                          \"providing I can't stress the importance of concise \"\n",
            "                          'yet detail factual reports.  I would like to review '\n",
            "                          'your reports as a training exercise to help you '\n",
            "                          'better meet the team requirements.  Given that '\n",
            "                          'there are some major reports coming up in the '\n",
            "                          'immediate future, I would like you to review some '\n",
            "                          'training options and then present a report for '\n",
            "                          'review.  Again your insights are appreciated but we '\n",
            "                          'need to make sure we are presenting the end-use '\n",
            "                          'with only the information they need to make a sound '\n",
            "                          'business decision. I also understand you would like '\n",
            "                          'to grow into a leadership position so I would like '\n",
            "                          'to discuss how successfully implementing these '\n",
            "                          'changes would be beneficial in demonstrating an '\n",
            "                          'ability to grow and take on new challenges. ',\n",
            "               'role': 'user'},\n",
            "              {'content': 'Non-empathetic', 'role': 'assistant'}]}\n"
          ]
        }
      ]
    },
    {
      "cell_type": "code",
      "source": [
        "training_json = train_data.apply(prepare_example_conversation, axis=1).tolist()\n",
        "test_json = test_data.apply(prepare_example_conversation, axis=1).tolist()\n",
        "\n",
        "\n",
        "for example in training_json[:5]:\n",
        "    print(example)"
      ],
      "metadata": {
        "id": "shiKN4dPNjf1",
        "outputId": "8b7288e7-bad5-4245-80d0-2313e6939bc6",
        "colab": {
          "base_uri": "https://localhost:8080/"
        }
      },
      "execution_count": 11,
      "outputs": [
        {
          "output_type": "stream",
          "name": "stdout",
          "text": [
            "{'messages': [{'role': 'system', 'content': '\\nYour task is to classify the provided text as either \"Empathetic\" or \"Non-empathetic\".\\nEmpathetic Responses involve understanding, supportiveness, and active engagement. Understanding is demonstrated by showing comprehension\\nof the individual\\'s feelings and perspective. Supportiveness entails offering genuine support, guidance, or constructive feedback while\\nrespecting the individual\\'s contributions and feelings. Active engagement is displayed through asking questions or suggesting actions that\\nactively engage with the individual\\'s situation. Non-Empathetic Responses lack empathetic qualities. They may lack personalization, offering\\ngeneric advice or feedback without addressing the individual\\'s specific feelings or situation. Dismissiveness occurs when the individual\\'s\\nfeelings, concerns, or contributions are downplayed or ignored. Superficiality refers to appearing empathetic on the surface but lacking depth\\nin understanding or supporting the individual\\'s actual needs.\\n'}, {'role': 'user', 'content': 'Message to Classify: Jonathan, First I want to thank you for your help with the Beta project.  However,  it has been brought to my attention that perhaps ABC-5 didn\\'t do enough to prepare you for the extra work and I would like to discuss some issues. The nature of these reports requires them to be technical in nature.  Your insights are very valuable and much appreciated but as the old line goes \"please give me just the facts\".  Given the critical nature of the information you are providing I can\\'t stress the importance of concise yet detail factual reports.  I would like to review your reports as a training exercise to help you better meet the team requirements.  Given that there are some major reports coming up in the immediate future, I would like you to review some training options and then present a report for review.  Again your insights are appreciated but we need to make sure we are presenting the end-use with only the information they need to make a sound business decision. I also understand you would like to grow into a leadership position so I would like to discuss how successfully implementing these changes would be beneficial in demonstrating an ability to grow and take on new challenges. '}, {'role': 'assistant', 'content': 'Non-empathetic'}]}\n",
            "{'messages': [{'role': 'system', 'content': '\\nYour task is to classify the provided text as either \"Empathetic\" or \"Non-empathetic\".\\nEmpathetic Responses involve understanding, supportiveness, and active engagement. Understanding is demonstrated by showing comprehension\\nof the individual\\'s feelings and perspective. Supportiveness entails offering genuine support, guidance, or constructive feedback while\\nrespecting the individual\\'s contributions and feelings. Active engagement is displayed through asking questions or suggesting actions that\\nactively engage with the individual\\'s situation. Non-Empathetic Responses lack empathetic qualities. They may lack personalization, offering\\ngeneric advice or feedback without addressing the individual\\'s specific feelings or situation. Dismissiveness occurs when the individual\\'s\\nfeelings, concerns, or contributions are downplayed or ignored. Superficiality refers to appearing empathetic on the surface but lacking depth\\nin understanding or supporting the individual\\'s actual needs.\\n'}, {'role': 'user', 'content': \"Message to Classify: Hi Jonathan, Thank you for your message. I am glad you are excited to be working on the Beta project. Terry has told me you are contributing very well to the team and you are finding improvements we didn't know we needed. I would like to discuss your reports, you are very passionate about providing an extensive amount of information which is helpful to the project. However, if this information is not provided in a concise format it can be very difficult for others to glean it from your reports. Could we work on a format for your reports where we can have concise factual information while including the other critical information you are finding? I would like to work with you on finding a format that will do this. You might want to approach Terry and ask him for some suggestions. Once you have had the chance to develop the format, yourself, Terry and I can meet to discuss how well this will work going forward.These reports are viewed by many people in the organization, so it is important that we are submitting them in a format that is easy to read and permits our executive staff to make effective decisions.  Thank you for your efforts on this project Jonathan, I look forward to meeting with you to discuss this further.  William\"}, {'role': 'assistant', 'content': 'Empathetic'}]}\n",
            "{'messages': [{'role': 'system', 'content': '\\nYour task is to classify the provided text as either \"Empathetic\" or \"Non-empathetic\".\\nEmpathetic Responses involve understanding, supportiveness, and active engagement. Understanding is demonstrated by showing comprehension\\nof the individual\\'s feelings and perspective. Supportiveness entails offering genuine support, guidance, or constructive feedback while\\nrespecting the individual\\'s contributions and feelings. Active engagement is displayed through asking questions or suggesting actions that\\nactively engage with the individual\\'s situation. Non-Empathetic Responses lack empathetic qualities. They may lack personalization, offering\\ngeneric advice or feedback without addressing the individual\\'s specific feelings or situation. Dismissiveness occurs when the individual\\'s\\nfeelings, concerns, or contributions are downplayed or ignored. Superficiality refers to appearing empathetic on the surface but lacking depth\\nin understanding or supporting the individual\\'s actual needs.\\n'}, {'role': 'user', 'content': 'Message to Classify: Hi Jonathan, I just happened to know that you are gathering information for our Beta project. While your work is really nice insight and improvement ideas, I feel the need to talk to you about what more can be done with your reports I have received comments from our team that more time is needed to spent on extracting information from your reports. Our team member are looking for technical information and redundant comments takes them time to extract the fact and sometime confusing. Another thing is that can help us is to organize the report in a more clear, concise way. We are showing the reports to our prospect and even the CEO, so we need it to be well structured, concise and to the point. I am sure if youspend more time to organize your report, you will be able to address this problem. I know you are an enthusiastic contributor and you have done a good work until now, but we need your reports to be improved for our project team to success. I am afraid if the situationis notgetting better we will have to look for someone else towork on this project.Please spend more effort to organize your next report and I really look forward to your good news'}, {'role': 'assistant', 'content': 'Empathetic'}]}\n",
            "{'messages': [{'role': 'system', 'content': '\\nYour task is to classify the provided text as either \"Empathetic\" or \"Non-empathetic\".\\nEmpathetic Responses involve understanding, supportiveness, and active engagement. Understanding is demonstrated by showing comprehension\\nof the individual\\'s feelings and perspective. Supportiveness entails offering genuine support, guidance, or constructive feedback while\\nrespecting the individual\\'s contributions and feelings. Active engagement is displayed through asking questions or suggesting actions that\\nactively engage with the individual\\'s situation. Non-Empathetic Responses lack empathetic qualities. They may lack personalization, offering\\ngeneric advice or feedback without addressing the individual\\'s specific feelings or situation. Dismissiveness occurs when the individual\\'s\\nfeelings, concerns, or contributions are downplayed or ignored. Superficiality refers to appearing empathetic on the surface but lacking depth\\nin understanding or supporting the individual\\'s actual needs.\\n'}, {'role': 'user', 'content': \"Message to Classify: Hi Jonathan, I have been hearing about some of the great work you're doing on the Beta project, and wanted to touch base with you on how things are progressing, and what more we can do together to help you perform even better than what you are already doing Jonathan, Terry has been happy with your work on this project and even mentioned to me that you have been able to find improvements we didn't know we needed, but as we move ahead, the team has a few concerns they would like us to address - a. Your reports with the technical information have your perspectives on the findings, not the technical information itself - we need to address this topic b. You need to improve your business writing skills in order to take the next leapI know you have been working very hard on this and your performance speaks for it, and I know your ambition to become even better, and in that spirit, let's focus on how you can address the above mentioned issues. You are a great asset, and that's why I need you to commit to a development plan in order for us to ensure you function at the highest level.We need to commit to the following plan of action: a. You start by preparing the technical report only with findings, not your perspectives. We value your insights, and would love to have them, but in a short memo on top of the technical report to summarize. b. We need to coach you by getting you into a business writing course - you're a great technical engineer, but in order to rise up the ladders in business, this is an essential skill that you need to gain. I would like to hear your side of the story: your view on generating insights, what are the things we can help you out with\\xa0: are there any problems you are having with the team, what extra coaching we can provide, what are your ambitions...\"}, {'role': 'assistant', 'content': 'Empathetic'}]}\n",
            "{'messages': [{'role': 'system', 'content': '\\nYour task is to classify the provided text as either \"Empathetic\" or \"Non-empathetic\".\\nEmpathetic Responses involve understanding, supportiveness, and active engagement. Understanding is demonstrated by showing comprehension\\nof the individual\\'s feelings and perspective. Supportiveness entails offering genuine support, guidance, or constructive feedback while\\nrespecting the individual\\'s contributions and feelings. Active engagement is displayed through asking questions or suggesting actions that\\nactively engage with the individual\\'s situation. Non-Empathetic Responses lack empathetic qualities. They may lack personalization, offering\\ngeneric advice or feedback without addressing the individual\\'s specific feelings or situation. Dismissiveness occurs when the individual\\'s\\nfeelings, concerns, or contributions are downplayed or ignored. Superficiality refers to appearing empathetic on the surface but lacking depth\\nin understanding or supporting the individual\\'s actual needs.\\n'}, {'role': 'user', 'content': \"Message to Classify: Hi Jonathan, I am glad to hear that you are enjoying your job,  traveling and learning more about the Beta ray technology. I wanted to share some feedback with you that I received. I want to help you be able to advance in your career and I feel that this feedback will be helpful. I am excited that you are will to share your perspectives on the findings, however if you could focus on the data portion first, and highlight the main points, that would be really beneficial to your audience. By being more concise it will allow the potential customers and then CEO to focus on the facts of the report, which will allow them to make a decision for themselves. I understand that this is probably a newer to writing the reports, and I don't think that anyone has shown you an example of how the reports are usually written, so I have sent you some examples for you to review. I think that you are doing a good job learning and with this little tweak in the report writing you will be able to advance in your career. In order to help you, if you don't mind, I would like to review the report before you submit it and then we can work together to ensure it will be a great report. I understand that you really enjoy providing your perspectives on the technology and recommendations on how it can be used, so we will find a spot for that in the report as well, but perhaps in a different section. Thank you so much for your time today and I look forward to working with you. \"}, {'role': 'assistant', 'content': 'Non-empathetic'}]}\n"
          ]
        }
      ]
    },
    {
      "cell_type": "code",
      "source": [
        "def write_jsonl(data_list: list, filename: str) -> None:\n",
        "    with open(filename, \"w\") as out:\n",
        "        for ddict in data_list:\n",
        "            jout = json.dumps(ddict) + \"\\n\"\n",
        "            out.write(jout)"
      ],
      "metadata": {
        "id": "6HZFZcIGOsGr"
      },
      "execution_count": 12,
      "outputs": []
    },
    {
      "cell_type": "code",
      "source": [
        "training_file_name = \"tmp_empathy_finetune_training.jsonl\"\n",
        "write_jsonl(training_json, training_file_name)\n",
        "\n",
        "testing_file_name = \"tmp_empathy_finetune_testing.jsonl\"\n",
        "write_jsonl(test_json, testing_file_name)"
      ],
      "metadata": {
        "id": "CspPh8nJOyAu"
      },
      "execution_count": 13,
      "outputs": []
    },
    {
      "cell_type": "code",
      "source": [
        "!head -n 5 tmp_empathy_finetune_training.jsonl"
      ],
      "metadata": {
        "id": "d1eYX5vaPKGq",
        "outputId": "c6df9d0c-8948-4359-c27f-29d4d12ba172",
        "colab": {
          "base_uri": "https://localhost:8080/"
        }
      },
      "execution_count": 14,
      "outputs": [
        {
          "output_type": "stream",
          "name": "stdout",
          "text": [
            "{\"messages\": [{\"role\": \"system\", \"content\": \"\\nYour task is to classify the provided text as either \\\"Empathetic\\\" or \\\"Non-empathetic\\\".\\nEmpathetic Responses involve understanding, supportiveness, and active engagement. Understanding is demonstrated by showing comprehension\\nof the individual's feelings and perspective. Supportiveness entails offering genuine support, guidance, or constructive feedback while\\nrespecting the individual's contributions and feelings. Active engagement is displayed through asking questions or suggesting actions that\\nactively engage with the individual's situation. Non-Empathetic Responses lack empathetic qualities. They may lack personalization, offering\\ngeneric advice or feedback without addressing the individual's specific feelings or situation. Dismissiveness occurs when the individual's\\nfeelings, concerns, or contributions are downplayed or ignored. Superficiality refers to appearing empathetic on the surface but lacking depth\\nin understanding or supporting the individual's actual needs.\\n\"}, {\"role\": \"user\", \"content\": \"Message to Classify: Jonathan, First I want to thank you for your help with the Beta project.  However,  it has been brought to my attention that perhaps ABC-5 didn't do enough to prepare you for the extra work and I would like to discuss some issues. The nature of these reports requires them to be technical in nature.  Your insights are very valuable and much appreciated but as the old line goes \\\"please give me just the facts\\\".  Given the critical nature of the information you are providing I can't stress the importance of concise yet detail factual reports.  I would like to review your reports as a training exercise to help you better meet the team requirements.  Given that there are some major reports coming up in the immediate future, I would like you to review some training options and then present a report for review.  Again your insights are appreciated but we need to make sure we are presenting the end-use with only the information they need to make a sound business decision. I also understand you would like to grow into a leadership position so I would like to discuss how successfully implementing these changes would be beneficial in demonstrating an ability to grow and take on new challenges. \"}, {\"role\": \"assistant\", \"content\": \"Non-empathetic\"}]}\n",
            "{\"messages\": [{\"role\": \"system\", \"content\": \"\\nYour task is to classify the provided text as either \\\"Empathetic\\\" or \\\"Non-empathetic\\\".\\nEmpathetic Responses involve understanding, supportiveness, and active engagement. Understanding is demonstrated by showing comprehension\\nof the individual's feelings and perspective. Supportiveness entails offering genuine support, guidance, or constructive feedback while\\nrespecting the individual's contributions and feelings. Active engagement is displayed through asking questions or suggesting actions that\\nactively engage with the individual's situation. Non-Empathetic Responses lack empathetic qualities. They may lack personalization, offering\\ngeneric advice or feedback without addressing the individual's specific feelings or situation. Dismissiveness occurs when the individual's\\nfeelings, concerns, or contributions are downplayed or ignored. Superficiality refers to appearing empathetic on the surface but lacking depth\\nin understanding or supporting the individual's actual needs.\\n\"}, {\"role\": \"user\", \"content\": \"Message to Classify: Hi Jonathan, Thank you for your message. I am glad you are excited to be working on the Beta project. Terry has told me you are contributing very well to the team and you are finding improvements we didn't know we needed. I would like to discuss your reports, you are very passionate about providing an extensive amount of information which is helpful to the project. However, if this information is not provided in a concise format it can be very difficult for others to glean it from your reports. Could we work on a format for your reports where we can have concise factual information while including the other critical information you are finding? I would like to work with you on finding a format that will do this. You might want to approach Terry and ask him for some suggestions. Once you have had the chance to develop the format, yourself, Terry and I can meet to discuss how well this will work going forward.These reports are viewed by many people in the organization, so it is important that we are submitting them in a format that is easy to read and permits our executive staff to make effective decisions.  Thank you for your efforts on this project Jonathan, I look forward to meeting with you to discuss this further.  William\"}, {\"role\": \"assistant\", \"content\": \"Empathetic\"}]}\n",
            "{\"messages\": [{\"role\": \"system\", \"content\": \"\\nYour task is to classify the provided text as either \\\"Empathetic\\\" or \\\"Non-empathetic\\\".\\nEmpathetic Responses involve understanding, supportiveness, and active engagement. Understanding is demonstrated by showing comprehension\\nof the individual's feelings and perspective. Supportiveness entails offering genuine support, guidance, or constructive feedback while\\nrespecting the individual's contributions and feelings. Active engagement is displayed through asking questions or suggesting actions that\\nactively engage with the individual's situation. Non-Empathetic Responses lack empathetic qualities. They may lack personalization, offering\\ngeneric advice or feedback without addressing the individual's specific feelings or situation. Dismissiveness occurs when the individual's\\nfeelings, concerns, or contributions are downplayed or ignored. Superficiality refers to appearing empathetic on the surface but lacking depth\\nin understanding or supporting the individual's actual needs.\\n\"}, {\"role\": \"user\", \"content\": \"Message to Classify: Hi Jonathan, I just happened to know that you are gathering information for our Beta project. While your work is really nice insight and improvement ideas, I feel the need to talk to you about what more can be done with your reports I have received comments from our team that more time is needed to spent on extracting information from your reports. Our team member are looking for technical information and redundant comments takes them time to extract the fact and sometime confusing. Another thing is that can help us is to organize the report in a more clear, concise way. We are showing the reports to our prospect and even the CEO, so we need it to be well structured, concise and to the point. I am sure if youspend more time to organize your report, you will be able to address this problem. I know you are an enthusiastic contributor and you have done a good work until now, but we need your reports to be improved for our project team to success. I am afraid if the situationis notgetting better we will have to look for someone else towork on this project.Please spend more effort to organize your next report and I really look forward to your good news\"}, {\"role\": \"assistant\", \"content\": \"Empathetic\"}]}\n",
            "{\"messages\": [{\"role\": \"system\", \"content\": \"\\nYour task is to classify the provided text as either \\\"Empathetic\\\" or \\\"Non-empathetic\\\".\\nEmpathetic Responses involve understanding, supportiveness, and active engagement. Understanding is demonstrated by showing comprehension\\nof the individual's feelings and perspective. Supportiveness entails offering genuine support, guidance, or constructive feedback while\\nrespecting the individual's contributions and feelings. Active engagement is displayed through asking questions or suggesting actions that\\nactively engage with the individual's situation. Non-Empathetic Responses lack empathetic qualities. They may lack personalization, offering\\ngeneric advice or feedback without addressing the individual's specific feelings or situation. Dismissiveness occurs when the individual's\\nfeelings, concerns, or contributions are downplayed or ignored. Superficiality refers to appearing empathetic on the surface but lacking depth\\nin understanding or supporting the individual's actual needs.\\n\"}, {\"role\": \"user\", \"content\": \"Message to Classify: Hi Jonathan, I have been hearing about some of the great work you're doing on the Beta project, and wanted to touch base with you on how things are progressing, and what more we can do together to help you perform even better than what you are already doing Jonathan, Terry has been happy with your work on this project and even mentioned to me that you have been able to find improvements we didn't know we needed, but as we move ahead, the team has a few concerns they would like us to address - a. Your reports with the technical information have your perspectives on the findings, not the technical information itself - we need to address this topic b. You need to improve your business writing skills in order to take the next leapI know you have been working very hard on this and your performance speaks for it, and I know your ambition to become even better, and in that spirit, let's focus on how you can address the above mentioned issues. You are a great asset, and that's why I need you to commit to a development plan in order for us to ensure you function at the highest level.We need to commit to the following plan of action: a. You start by preparing the technical report only with findings, not your perspectives. We value your insights, and would love to have them, but in a short memo on top of the technical report to summarize. b. We need to coach you by getting you into a business writing course - you're a great technical engineer, but in order to rise up the ladders in business, this is an essential skill that you need to gain. I would like to hear your side of the story: your view on generating insights, what are the things we can help you out with\\u00a0: are there any problems you are having with the team, what extra coaching we can provide, what are your ambitions...\"}, {\"role\": \"assistant\", \"content\": \"Empathetic\"}]}\n",
            "{\"messages\": [{\"role\": \"system\", \"content\": \"\\nYour task is to classify the provided text as either \\\"Empathetic\\\" or \\\"Non-empathetic\\\".\\nEmpathetic Responses involve understanding, supportiveness, and active engagement. Understanding is demonstrated by showing comprehension\\nof the individual's feelings and perspective. Supportiveness entails offering genuine support, guidance, or constructive feedback while\\nrespecting the individual's contributions and feelings. Active engagement is displayed through asking questions or suggesting actions that\\nactively engage with the individual's situation. Non-Empathetic Responses lack empathetic qualities. They may lack personalization, offering\\ngeneric advice or feedback without addressing the individual's specific feelings or situation. Dismissiveness occurs when the individual's\\nfeelings, concerns, or contributions are downplayed or ignored. Superficiality refers to appearing empathetic on the surface but lacking depth\\nin understanding or supporting the individual's actual needs.\\n\"}, {\"role\": \"user\", \"content\": \"Message to Classify: Hi Jonathan, I am glad to hear that you are enjoying your job,  traveling and learning more about the Beta ray technology. I wanted to share some feedback with you that I received. I want to help you be able to advance in your career and I feel that this feedback will be helpful. I am excited that you are will to share your perspectives on the findings, however if you could focus on the data portion first, and highlight the main points, that would be really beneficial to your audience. By being more concise it will allow the potential customers and then CEO to focus on the facts of the report, which will allow them to make a decision for themselves. I understand that this is probably a newer to writing the reports, and I don't think that anyone has shown you an example of how the reports are usually written, so I have sent you some examples for you to review. I think that you are doing a good job learning and with this little tweak in the report writing you will be able to advance in your career. In order to help you, if you don't mind, I would like to review the report before you submit it and then we can work together to ensure it will be a great report. I understand that you really enjoy providing your perspectives on the technology and recommendations on how it can be used, so we will find a spot for that in the report as well, but perhaps in a different section. Thank you so much for your time today and I look forward to working with you. \"}, {\"role\": \"assistant\", \"content\": \"Non-empathetic\"}]}\n"
          ]
        }
      ]
    },
    {
      "cell_type": "markdown",
      "source": [
        "### Pre-Tuning Checks"
      ],
      "metadata": {
        "id": "mEzRcfLnf9Lw"
      }
    },
    {
      "cell_type": "code",
      "source": [
        "# Format error checks - Training set\n",
        "with open(\"/content/tmp_empathy_finetune_testing.jsonl\", 'r', encoding='utf-8') as f:\n",
        "    dataset = [json.loads(line) for line in f]\n",
        "\n",
        "format_errors = defaultdict(int)\n",
        "\n",
        "for ex in dataset:\n",
        "    if not isinstance(ex, dict):\n",
        "        format_errors[\"data_type\"] += 1\n",
        "        continue\n",
        "\n",
        "    messages = ex.get(\"messages\", None)\n",
        "    if not messages:\n",
        "        format_errors[\"missing_messages_list\"] += 1\n",
        "        continue\n",
        "\n",
        "    for message in messages:\n",
        "        if \"role\" not in message or \"content\" not in message:\n",
        "            format_errors[\"message_missing_key\"] += 1\n",
        "\n",
        "        if any(k not in (\"role\", \"content\", \"name\", \"function_call\", \"weight\") for k in message):\n",
        "            format_errors[\"message_unrecognized_key\"] += 1\n",
        "\n",
        "        if message.get(\"role\", None) not in (\"system\", \"user\", \"assistant\", \"function\"):\n",
        "            format_errors[\"unrecognized_role\"] += 1\n",
        "\n",
        "        content = message.get(\"content\", None)\n",
        "        function_call = message.get(\"function_call\", None)\n",
        "\n",
        "        if (not content and not function_call) or not isinstance(content, str):\n",
        "            format_errors[\"missing_content\"] += 1\n",
        "\n",
        "    if not any(message.get(\"role\", None) == \"assistant\" for message in messages):\n",
        "        format_errors[\"example_missing_assistant_message\"] += 1\n",
        "\n",
        "if format_errors:\n",
        "    print(\"Found errors:\")\n",
        "    for k, v in format_errors.items():\n",
        "        print(f\"{k}: {v}\")\n",
        "else:\n",
        "    print(\"No errors found\")"
      ],
      "metadata": {
        "id": "B5-zgm6HeWUu",
        "outputId": "62d13803-e5c6-49c8-cd22-2ac35dff6a2e",
        "colab": {
          "base_uri": "https://localhost:8080/"
        }
      },
      "execution_count": 15,
      "outputs": [
        {
          "output_type": "stream",
          "name": "stdout",
          "text": [
            "No errors found\n"
          ]
        }
      ]
    },
    {
      "cell_type": "code",
      "source": [
        "# Format error checks - Training set\n",
        "with open(\"/content/tmp_empathy_finetune_training.jsonl\", 'r', encoding='utf-8') as f:\n",
        "    dataset = [json.loads(line) for line in f]\n",
        "\n",
        "format_errors = defaultdict(int)\n",
        "\n",
        "for ex in dataset:\n",
        "    if not isinstance(ex, dict):\n",
        "        format_errors[\"data_type\"] += 1\n",
        "        continue\n",
        "\n",
        "    messages = ex.get(\"messages\", None)\n",
        "    if not messages:\n",
        "        format_errors[\"missing_messages_list\"] += 1\n",
        "        continue\n",
        "\n",
        "    for message in messages:\n",
        "        if \"role\" not in message or \"content\" not in message:\n",
        "            format_errors[\"message_missing_key\"] += 1\n",
        "\n",
        "        if any(k not in (\"role\", \"content\", \"name\", \"function_call\", \"weight\") for k in message):\n",
        "            format_errors[\"message_unrecognized_key\"] += 1\n",
        "\n",
        "        if message.get(\"role\", None) not in (\"system\", \"user\", \"assistant\", \"function\"):\n",
        "            format_errors[\"unrecognized_role\"] += 1\n",
        "\n",
        "        content = message.get(\"content\", None)\n",
        "        function_call = message.get(\"function_call\", None)\n",
        "\n",
        "        if (not content and not function_call) or not isinstance(content, str):\n",
        "            format_errors[\"missing_content\"] += 1\n",
        "\n",
        "    if not any(message.get(\"role\", None) == \"assistant\" for message in messages):\n",
        "        format_errors[\"example_missing_assistant_message\"] += 1\n",
        "\n",
        "if format_errors:\n",
        "    print(\"Found errors:\")\n",
        "    for k, v in format_errors.items():\n",
        "        print(f\"{k}: {v}\")\n",
        "else:\n",
        "    print(\"No errors found\")"
      ],
      "metadata": {
        "id": "FK9EdNDofBYq",
        "outputId": "281115f1-ab8e-41a1-a019-450c5c30a0c1",
        "colab": {
          "base_uri": "https://localhost:8080/"
        }
      },
      "execution_count": 16,
      "outputs": [
        {
          "output_type": "stream",
          "name": "stdout",
          "text": [
            "No errors found\n"
          ]
        }
      ]
    },
    {
      "cell_type": "code",
      "source": [
        "# Warnings and tokens counts\n",
        "with open(\"/content/tmp_empathy_finetune_testing.jsonl\", 'r', encoding='utf-8') as f:\n",
        "    dataset = [json.loads(line) for line in f]\n",
        "\n",
        "n_missing_system = 0\n",
        "n_missing_user = 0\n",
        "n_messages = []\n",
        "convo_lens = []\n",
        "assistant_message_lens = []\n",
        "\n",
        "for ex in dataset:\n",
        "    messages = ex[\"messages\"]\n",
        "    if not any(message[\"role\"] == \"system\" for message in messages):\n",
        "        n_missing_system += 1\n",
        "    if not any(message[\"role\"] == \"user\" for message in messages):\n",
        "        n_missing_user += 1\n",
        "    n_messages.append(len(messages))\n",
        "    convo_lens.append(num_tokens_from_messages(messages))\n",
        "    assistant_message_lens.append(num_assistant_tokens_from_messages(messages))\n",
        "\n",
        "print(\"Num examples missing system message:\", n_missing_system)\n",
        "print(\"Num examples missing user message:\", n_missing_user)\n",
        "print_distribution(n_messages, \"num_messages_per_example\")\n",
        "print_distribution(convo_lens, \"num_total_tokens_per_example\")\n",
        "print_distribution(assistant_message_lens, \"num_assistant_tokens_per_example\")\n",
        "n_too_long = sum(l > 4096 for l in convo_lens)\n",
        "print(f\"\\n{n_too_long} examples may be over the 4096 token limit, they will be truncated during fine-tuning\")"
      ],
      "metadata": {
        "id": "f9CqjO0zfnZT",
        "outputId": "5e139138-afd7-4c32-c571-3bd27e6101cd",
        "colab": {
          "base_uri": "https://localhost:8080/"
        }
      },
      "execution_count": 17,
      "outputs": [
        {
          "output_type": "stream",
          "name": "stdout",
          "text": [
            "Num examples missing system message: 0\n",
            "Num examples missing user message: 0\n",
            "\n",
            "#### Distribution of num_messages_per_example:\n",
            "min / max: 3, 3\n",
            "mean / median: 3.0, 3.0\n",
            "p5 / p95: 3.0, 3.0\n",
            "\n",
            "#### Distribution of num_total_tokens_per_example:\n",
            "min / max: 324, 625\n",
            "mean / median: 435.75, 436.0\n",
            "p5 / p95: 352.7, 503.6\n",
            "\n",
            "#### Distribution of num_assistant_tokens_per_example:\n",
            "min / max: 3, 4\n",
            "mean / median: 3.4166666666666665, 3.0\n",
            "p5 / p95: 3.0, 4.0\n",
            "\n",
            "0 examples may be over the 4096 token limit, they will be truncated during fine-tuning\n"
          ]
        }
      ]
    },
    {
      "cell_type": "code",
      "source": [
        "# Pricing and default n_epochs estimate\n",
        "MAX_TOKENS_PER_EXAMPLE = 4096\n",
        "\n",
        "TARGET_EPOCHS = 3\n",
        "MIN_TARGET_EXAMPLES = 100\n",
        "MAX_TARGET_EXAMPLES = 25000\n",
        "MIN_DEFAULT_EPOCHS = 1\n",
        "MAX_DEFAULT_EPOCHS = 25\n",
        "\n",
        "n_epochs = TARGET_EPOCHS\n",
        "n_train_examples = len(dataset)\n",
        "if n_train_examples * TARGET_EPOCHS < MIN_TARGET_EXAMPLES:\n",
        "    n_epochs = min(MAX_DEFAULT_EPOCHS, MIN_TARGET_EXAMPLES // n_train_examples)\n",
        "elif n_train_examples * TARGET_EPOCHS > MAX_TARGET_EXAMPLES:\n",
        "    n_epochs = max(MIN_DEFAULT_EPOCHS, MAX_TARGET_EXAMPLES // n_train_examples)\n",
        "\n",
        "n_billing_tokens_in_dataset = sum(min(MAX_TOKENS_PER_EXAMPLE, length) for length in convo_lens)\n",
        "print(f\"Dataset has ~{n_billing_tokens_in_dataset} tokens that will be charged for during training\")\n",
        "print(f\"By default, you'll train for {n_epochs} epochs on this dataset\")\n",
        "print(f\"By default, you'll be charged for ~{n_epochs * n_billing_tokens_in_dataset} tokens\")\n",
        "print(f\"Estimated training cost ~${((n_epochs * n_billing_tokens_in_dataset)/1000)*.0080}\")"
      ],
      "metadata": {
        "id": "RBNhJKoSgVZM",
        "outputId": "181ab497-4225-430c-ba22-919f6dded63a",
        "colab": {
          "base_uri": "https://localhost:8080/"
        }
      },
      "execution_count": 18,
      "outputs": [
        {
          "output_type": "stream",
          "name": "stdout",
          "text": [
            "Dataset has ~10458 tokens that will be charged for during training\n",
            "By default, you'll train for 4 epochs on this dataset\n",
            "By default, you'll be charged for ~41832 tokens\n",
            "Estimated training cost ~$0.334656\n"
          ]
        }
      ]
    },
    {
      "cell_type": "code",
      "source": [
        "with open(training_file_name, \"rb\") as training_fd:\n",
        "    training_response = client.files.create(\n",
        "        file=training_fd, purpose=\"fine-tune\"\n",
        "    )\n",
        "\n",
        "training_file_id = training_response.id\n",
        "\n",
        "with open(testing_file_name, \"rb\") as validation_fd:\n",
        "    validation_response = client.files.create(\n",
        "        file=validation_fd, purpose=\"fine-tune\"\n",
        "    )\n",
        "validation_file_id = validation_response.id\n",
        "\n",
        "print(\"Training file ID:\", training_file_id)\n",
        "print(\"Validation file ID:\", validation_file_id)"
      ],
      "metadata": {
        "id": "4kPzYKTDPZTk",
        "outputId": "037bdef6-d4ca-49b0-d227-13abfc2f0494",
        "colab": {
          "base_uri": "https://localhost:8080/"
        }
      },
      "execution_count": 19,
      "outputs": [
        {
          "output_type": "stream",
          "name": "stdout",
          "text": [
            "Training file ID: file-aLnklu8um8QdfgnyZq9R8nx9\n",
            "Validation file ID: file-b7FhDPgmIKejbVYxWsj7fHwy\n"
          ]
        }
      ]
    },
    {
      "cell_type": "markdown",
      "source": [
        "## Fine Tuning"
      ],
      "metadata": {
        "id": "rmi4TAoxdyQ1"
      }
    },
    {
      "cell_type": "code",
      "source": [
        "# Only Run this cell when wanting to create a new fine-tuning job, otherwise you will be paying to redo work\n",
        "\n",
        "#Uncomment the below code when wanting to run a new fine-tuning job\n",
        "# response = client.fine_tuning.jobs.create(\n",
        "#     training_file=training_file_id,\n",
        "#     validation_file=validation_file_id,\n",
        "#     model=\"gpt-3.5-turbo\",\n",
        "#     hyperparameters = {\"n_epochs\":3, \"batch_size\":\"auto\", \"learning_rate_multiplier\":2},\n",
        "#     suffix=\"empathy_tuned_v2\"\n",
        "# )\n",
        "\n",
        "# job_id = response.id\n",
        "job_id = \"ftjob-p8I8rBrqF8bN47qhiyOWzD9h\"\n",
        "\n",
        "# print(\"Job ID:\", response.id)\n",
        "# print(\"Status:\", response.status)"
      ],
      "metadata": {
        "id": "sUvyai4FYMUb"
      },
      "execution_count": 22,
      "outputs": []
    },
    {
      "cell_type": "code",
      "source": [
        "WandbLogger.sync(fine_tune_job_id=job_id, project=WANDB_PROJECT, openai_client=client)"
      ],
      "metadata": {
        "colab": {
          "base_uri": "https://localhost:8080/",
          "height": 469,
          "referenced_widgets": [
            "61748372a0f043ee872e707419f6fca5",
            "be14c9d2f5724bc3ab58fb5116ca88d0",
            "b457e05021524d458705f412828be232",
            "62f99fb1dc0e402c89b68f0e2e1fc167",
            "2e9ff1da8512434aa80c2147d8382d1f",
            "4306beb4b5d7425db2ec86ee267d1580",
            "6c328b9185ce407eaa68ffe02e81a3b3",
            "948a323b94d3436681fe3e51cf97a5b0"
          ]
        },
        "id": "peVe5wIsfF4m",
        "outputId": "344400e0-958a-4024-da18-c5cfa46086cb"
      },
      "execution_count": 23,
      "outputs": [
        {
          "output_type": "stream",
          "name": "stderr",
          "text": [
            "\u001b[34m\u001b[1mwandb\u001b[0m: Retrieving fine-tune job...\n"
          ]
        },
        {
          "output_type": "display_data",
          "data": {
            "text/plain": [
              "<IPython.core.display.HTML object>"
            ],
            "text/html": [
              "Tracking run with wandb version 0.16.6.dev1"
            ]
          },
          "metadata": {}
        },
        {
          "output_type": "display_data",
          "data": {
            "text/plain": [
              "<IPython.core.display.HTML object>"
            ],
            "text/html": [
              "Run data is saved locally in <code>/content/wandb/run-20240403_022221-ftjob-p8I8rBrqF8bN47qhiyOWzD9h</code>"
            ]
          },
          "metadata": {}
        },
        {
          "output_type": "display_data",
          "data": {
            "text/plain": [
              "<IPython.core.display.HTML object>"
            ],
            "text/html": [
              "Syncing run <strong><a href='https://wandb.ai/z-markofsky/OpenAI-Empathy-Fine-Tune/runs/ftjob-p8I8rBrqF8bN47qhiyOWzD9h' target=\"_blank\">ftjob-p8I8rBrqF8bN47qhiyOWzD9h</a></strong> to <a href='https://wandb.ai/z-markofsky/OpenAI-Empathy-Fine-Tune' target=\"_blank\">Weights & Biases</a> (<a href='https://wandb.me/run' target=\"_blank\">docs</a>)<br/>"
            ]
          },
          "metadata": {}
        },
        {
          "output_type": "display_data",
          "data": {
            "text/plain": [
              "<IPython.core.display.HTML object>"
            ],
            "text/html": [
              " View project at <a href='https://wandb.ai/z-markofsky/OpenAI-Empathy-Fine-Tune' target=\"_blank\">https://wandb.ai/z-markofsky/OpenAI-Empathy-Fine-Tune</a>"
            ]
          },
          "metadata": {}
        },
        {
          "output_type": "display_data",
          "data": {
            "text/plain": [
              "<IPython.core.display.HTML object>"
            ],
            "text/html": [
              " View run at <a href='https://wandb.ai/z-markofsky/OpenAI-Empathy-Fine-Tune/runs/ftjob-p8I8rBrqF8bN47qhiyOWzD9h' target=\"_blank\">https://wandb.ai/z-markofsky/OpenAI-Empathy-Fine-Tune/runs/ftjob-p8I8rBrqF8bN47qhiyOWzD9h</a>"
            ]
          },
          "metadata": {}
        },
        {
          "output_type": "stream",
          "name": "stderr",
          "text": [
            "\u001b[34m\u001b[1mwandb\u001b[0m: Waiting for the OpenAI fine-tuning job to finish training...\n",
            "\u001b[34m\u001b[1mwandb\u001b[0m: To avoid blocking, you can call `WandbLogger.sync` with `wait_for_job_success=False` after OpenAI training completes.\n",
            "\u001b[34m\u001b[1mwandb\u001b[0m: Fine-tuning finished, logging metrics, model metadata, and run metadata to Weights & Biases\n",
            "\u001b[34m\u001b[1mwandb\u001b[0m: Logging training/validation files...\n"
          ]
        },
        {
          "output_type": "display_data",
          "data": {
            "text/plain": [
              "VBox(children=(Label(value='0.002 MB of 0.002 MB uploaded\\r'), FloatProgress(value=1.0, max=1.0)))"
            ],
            "application/vnd.jupyter.widget-view+json": {
              "version_major": 2,
              "version_minor": 0,
              "model_id": "61748372a0f043ee872e707419f6fca5"
            }
          },
          "metadata": {}
        },
        {
          "output_type": "display_data",
          "data": {
            "text/plain": [
              "<IPython.core.display.HTML object>"
            ],
            "text/html": [
              "<style>\n",
              "    table.wandb td:nth-child(1) { padding: 0 10px; text-align: left ; width: auto;} td:nth-child(2) {text-align: left ; width: 100%}\n",
              "    .wandb-row { display: flex; flex-direction: row; flex-wrap: wrap; justify-content: flex-start; width: 100% }\n",
              "    .wandb-col { display: flex; flex-direction: column; flex-basis: 100%; flex: 1; padding: 10px; }\n",
              "    </style>\n",
              "<div class=\"wandb-row\"><div class=\"wandb-col\"><h3>Run history:</h3><br/><table class=\"wandb\"><tr><td>train_accuracy</td><td>█▄▄▁▄█▄████▄▄█▄█▄████▄▄█▄▄▄▄▄▄▄█▄▄███▄█▄</td></tr><tr><td>train_loss</td><td>▁▆▂▃▂▁▃▁▁▁▁▆▆▁▆▁▆▁▁▁▁▃▃▁▇▅█▄▃▄█▁▇▇▁▁▁▇▁▇</td></tr><tr><td>valid_loss</td><td>▂▂▂▂▁▁▂▁▆▁▆▇▁▁▁▁▁▆▁▁▅█▁▄▂▁▁▁▁▇█▁▁▄▁▁▃▂▁▁</td></tr><tr><td>valid_mean_token_accuracy</td><td>█▁▁▁██▁█▂█▂▂█████▂██▂▂█▂▂████▂▂██▂██▂▂██</td></tr></table><br/></div><div class=\"wandb-col\"><h3>Run summary:</h3><br/><table class=\"wandb\"><tr><td>fine_tuned_model</td><td>ft:gpt-3.5-turbo-012...</td></tr><tr><td>status</td><td>succeeded</td></tr><tr><td>train_accuracy</td><td>0.83333</td></tr><tr><td>train_loss</td><td>1.66267</td></tr><tr><td>valid_loss</td><td>1e-05</td></tr><tr><td>valid_mean_token_accuracy</td><td>1.0</td></tr></table><br/></div></div>"
            ]
          },
          "metadata": {}
        },
        {
          "output_type": "display_data",
          "data": {
            "text/plain": [
              "<IPython.core.display.HTML object>"
            ],
            "text/html": [
              " View run <strong style=\"color:#cdcd00\">ftjob-p8I8rBrqF8bN47qhiyOWzD9h</strong> at: <a href='https://wandb.ai/z-markofsky/OpenAI-Empathy-Fine-Tune/runs/ftjob-p8I8rBrqF8bN47qhiyOWzD9h' target=\"_blank\">https://wandb.ai/z-markofsky/OpenAI-Empathy-Fine-Tune/runs/ftjob-p8I8rBrqF8bN47qhiyOWzD9h</a><br/> View project at: <a href='https://wandb.ai/z-markofsky/OpenAI-Empathy-Fine-Tune' target=\"_blank\">https://wandb.ai/z-markofsky/OpenAI-Empathy-Fine-Tune</a><br/>Synced 5 W&B file(s), 0 media file(s), 1 artifact file(s) and 0 other file(s)"
            ]
          },
          "metadata": {}
        },
        {
          "output_type": "display_data",
          "data": {
            "text/plain": [
              "<IPython.core.display.HTML object>"
            ],
            "text/html": [
              "Find logs at: <code>./wandb/run-20240403_022221-ftjob-p8I8rBrqF8bN47qhiyOWzD9h/logs</code>"
            ]
          },
          "metadata": {}
        },
        {
          "output_type": "execute_result",
          "data": {
            "text/plain": [
              "'🎉 wandb sync completed successfully'"
            ],
            "application/vnd.google.colaboratory.intrinsic+json": {
              "type": "string"
            }
          },
          "metadata": {},
          "execution_count": 23
        }
      ]
    },
    {
      "cell_type": "code",
      "source": [
        "#Check Job Status\n",
        "response = client.fine_tuning.jobs.retrieve(job_id)\n",
        "\n",
        "print(\"Job ID:\", response.id)\n",
        "print(\"Status:\", response.status)\n",
        "print(\"Trained Tokens:\", response.trained_tokens)\n"
      ],
      "metadata": {
        "id": "ZvT6IMZnk2OG"
      },
      "execution_count": null,
      "outputs": []
    },
    {
      "cell_type": "code",
      "source": [
        "#Track Fine-Tuning Endpoints\n",
        "response = client.fine_tuning.jobs.list_events(job_id)\n",
        "\n",
        "events = response.data\n",
        "events.reverse()\n",
        "\n",
        "for event in events:\n",
        "    print(event.message)"
      ],
      "metadata": {
        "id": "Kt70HufqlIQ_"
      },
      "execution_count": null,
      "outputs": []
    },
    {
      "cell_type": "code",
      "source": [
        "# When job is done, run to fets fine-tuned model id\n",
        "response = client.fine_tuning.jobs.retrieve(job_id)\n",
        "fine_tuned_model_id = response.fine_tuned_model\n",
        "\n",
        "if fine_tuned_model_id is None:\n",
        "    raise RuntimeError(\"Fine-tuned model ID not found. Your job has likely not been completed yet.\")\n",
        "\n",
        "print(\"Fine-tuned model ID:\", fine_tuned_model_id)"
      ],
      "metadata": {
        "id": "biVRMiJNlaDP",
        "outputId": "e4e1ab0b-afd2-4d5f-c826-3998b63b6013",
        "colab": {
          "base_uri": "https://localhost:8080/"
        }
      },
      "execution_count": 24,
      "outputs": [
        {
          "output_type": "stream",
          "name": "stdout",
          "text": [
            "Fine-tuned model ID: ft:gpt-3.5-turbo-0125:personal:empathy-tuned-v2:99k2Fsmn\n"
          ]
        }
      ]
    },
    {
      "cell_type": "markdown",
      "source": [
        "## Fine-Tuned Model Testing"
      ],
      "metadata": {
        "id": "we7GsYT9mM0N"
      }
    },
    {
      "cell_type": "code",
      "source": [
        "df_empathy_dev = pd.read_csv(\"https://raw.githubusercontent.com/UrologyUnbound/SIOP_ML_2024_Discord/main/data/dev/empathy_val_public.csv\")"
      ],
      "metadata": {
        "id": "6f762jfvmSSi"
      },
      "execution_count": 25,
      "outputs": []
    },
    {
      "cell_type": "code",
      "source": [
        "test_row = df_empathy_dev.iloc[2]\n",
        "test_messages = []\n",
        "test_messages.append({\"role\": \"system\", \"content\": system_message})\n",
        "user_message = create_user_message(test_row)\n",
        "test_messages.append({\"role\": \"user\", \"content\": user_message})\n",
        "\n",
        "pprint(test_messages)"
      ],
      "metadata": {
        "id": "vgsmL4nJmQRA",
        "outputId": "aa0601a4-70f0-4709-8ed8-0fa1bfb498aa",
        "colab": {
          "base_uri": "https://localhost:8080/"
        }
      },
      "execution_count": 26,
      "outputs": [
        {
          "output_type": "stream",
          "name": "stdout",
          "text": [
            "[{'content': '\\n'\n",
            "             'Your task is to classify the provided text as either '\n",
            "             '\"Empathetic\" or \"Non-empathetic\".\\n'\n",
            "             'Empathetic Responses involve understanding, supportiveness, and '\n",
            "             'active engagement. Understanding is demonstrated by showing '\n",
            "             'comprehension\\n'\n",
            "             \"of the individual's feelings and perspective. Supportiveness \"\n",
            "             'entails offering genuine support, guidance, or constructive '\n",
            "             'feedback while\\n'\n",
            "             \"respecting the individual's contributions and feelings. Active \"\n",
            "             'engagement is displayed through asking questions or suggesting '\n",
            "             'actions that\\n'\n",
            "             \"actively engage with the individual's situation. Non-Empathetic \"\n",
            "             'Responses lack empathetic qualities. They may lack '\n",
            "             'personalization, offering\\n'\n",
            "             \"generic advice or feedback without addressing the individual's \"\n",
            "             'specific feelings or situation. Dismissiveness occurs when the '\n",
            "             \"individual's\\n\"\n",
            "             'feelings, concerns, or contributions are downplayed or ignored. '\n",
            "             'Superficiality refers to appearing empathetic on the surface but '\n",
            "             'lacking depth\\n'\n",
            "             \"in understanding or supporting the individual's actual needs.\\n\",\n",
            "  'role': 'system'},\n",
            " {'content': 'Message to Classify: Hi Jonathan, I learnt that you are working '\n",
            "             'on Beta project and providing excellent information to Terry. '\n",
            "             'Here are few points i would like you to take care: It has been '\n",
            "             'observed that your report is having too much of information, i '\n",
            "             'request you to please summarize it with the facts and relevant '\n",
            "             'data. you can share your assumptions separately. because having '\n",
            "             'too much of information in the report may loose interest. '\n",
            "             'Generally Beta project team is concern only about the facts so '\n",
            "             'our reports should contain only facts. I really appreciate you '\n",
            "             'for your excellent findings and opinions, and i do understand '\n",
            "             'you are new for business writing and dont have much experience '\n",
            "             'in this area. So i you go through a formal training for business '\n",
            "             'writting it will add up value to your reports. I have requested '\n",
            "             'Terry to arrange a formal training as per your available '\n",
            "             'schedule. please go thriugh that.I hope you do understand the '\n",
            "             'concern here but still if you feel we can discuss further please '\n",
            "             'let me know we can discuss. Regards, William',\n",
            "  'role': 'user'}]\n"
          ]
        }
      ]
    },
    {
      "cell_type": "code",
      "source": [
        "response = client.chat.completions.create(\n",
        "    model=fine_tuned_model_id, messages=test_messages, temperature=0, max_tokens=500\n",
        ")\n",
        "print(response.choices[0].message.content)"
      ],
      "metadata": {
        "id": "Uj2TZFzGmg0I",
        "outputId": "cbe4e3fb-fb22-4ce2-c7fe-b3bedc7f70b9",
        "colab": {
          "base_uri": "https://localhost:8080/"
        }
      },
      "execution_count": 27,
      "outputs": [
        {
          "output_type": "stream",
          "name": "stdout",
          "text": [
            "Empathetic\n"
          ]
        }
      ]
    }
  ]
}